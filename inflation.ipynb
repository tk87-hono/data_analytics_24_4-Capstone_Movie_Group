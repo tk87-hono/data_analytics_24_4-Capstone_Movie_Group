{
 "cells": [
  {
   "cell_type": "code",
   "execution_count": 1,
   "metadata": {},
   "outputs": [],
   "source": [
    "import cpi"
   ]
  },
  {
   "cell_type": "code",
   "execution_count": 2,
   "metadata": {},
   "outputs": [
    {
     "name": "stderr",
     "output_type": "stream",
     "text": [
      "c:\\Users\\Pro\\miniconda3\\envs\\nf_polars\\lib\\site-packages\\cpi\\download.py:175: DtypeWarning: Columns (4) have mixed types. Specify dtype option on import or set low_memory=False.\n",
      "  df = pd.read_csv(io.StringIO(response.text), sep=\"\\t\")\n"
     ]
    }
   ],
   "source": [
    "cpi.update()"
   ]
  },
  {
   "cell_type": "code",
   "execution_count": null,
   "metadata": {},
   "outputs": [],
   "source": [
    "start_year = 1960\n",
    "final_year = 2024\n",
    "oringinal_value = 10000\n",
    "\n",
    "cpi_adjusted_value = cpi.inflate(oringinal_value, start_year, to=2023)\n",
    "cpi_adjusted_value"
   ]
  },
  {
   "cell_type": "code",
   "execution_count": 27,
   "metadata": {},
   "outputs": [],
   "source": [
    "from cpi import inflate"
   ]
  },
  {
   "cell_type": "code",
   "execution_count": 31,
   "metadata": {},
   "outputs": [
    {
     "name": "stdout",
     "output_type": "stream",
     "text": [
      "The total adjusted value after inflation is: 102051.58\n"
     ]
    }
   ],
   "source": [
    "# import cpi\n",
    "\n",
    "# start_year = 1960\n",
    "# final_year = 2024\n",
    "# original_value = 10000\n",
    "\n",
    "# # Calculate the slices\n",
    "# slice_a = ((original_value / 3 * 2) * 0.7)\n",
    "# slice_b = ((original_value / 3 * 2) * 0.3)\n",
    "# slice_c = original_value / 3\n",
    "\n",
    "# # Inflate each slice to 2023 value\n",
    "# slice_a = cpi.inflate(slice_a, start_year, to=2023)\n",
    "# slice_b = cpi.inflate(slice_b, start_year + 1, to=2023)\n",
    "# slice_c = cpi.inflate(slice_c, start_year + 2, to=2023)\n",
    "\n",
    "# # Sum the slices to get the total inflated result\n",
    "# result = slice_a + slice_b + slice_c\n",
    "\n",
    "# print(f\"The total adjusted value after inflation is: {result:.2f}\")"
   ]
  },
  {
   "cell_type": "code",
   "execution_count": 3,
   "metadata": {},
   "outputs": [],
   "source": [
    "# from functions import inflation\n",
    "from functions import calculate_inflated_value"
   ]
  },
  {
   "cell_type": "code",
   "execution_count": 4,
   "metadata": {},
   "outputs": [
    {
     "data": {
      "text/plain": [
       "102051.57561479617"
      ]
     },
     "execution_count": 4,
     "metadata": {},
     "output_type": "execute_result"
    }
   ],
   "source": [
    "test_var = calculate_inflated_value(1960,10000)\n",
    "test_var"
   ]
  }
 ],
 "metadata": {
  "kernelspec": {
   "display_name": "nf_polars",
   "language": "python",
   "name": "python3"
  },
  "language_info": {
   "codemirror_mode": {
    "name": "ipython",
    "version": 3
   },
   "file_extension": ".py",
   "mimetype": "text/x-python",
   "name": "python",
   "nbconvert_exporter": "python",
   "pygments_lexer": "ipython3",
   "version": "3.9.19"
  }
 },
 "nbformat": 4,
 "nbformat_minor": 2
}

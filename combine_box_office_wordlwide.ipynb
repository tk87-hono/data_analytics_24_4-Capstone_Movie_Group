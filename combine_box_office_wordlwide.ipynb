{
 "cells": [
  {
   "cell_type": "markdown",
   "metadata": {},
   "source": [
    "# Combine Box_Office\n",
    "\n",
    "Currently, we have one value for each country. However, our \"worldwide\" column does not contain all movies. \n",
    "We need to calculate a correct sum of all values we have.\n",
    "\n",
    "But first, let's import the box_office_data with inflated values"
   ]
  },
  {
   "cell_type": "markdown",
   "metadata": {},
   "source": [
    "Import table"
   ]
  },
  {
   "cell_type": "code",
   "execution_count": 157,
   "metadata": {},
   "outputs": [],
   "source": [
    "# import all packages\n",
    "import pandas as pd\n",
    "import numpy as np\n",
    "import psycopg2 as psycopg2\n",
    "import sql_functions as sqlf\n",
    "\n",
    "pd.options.display.float_format= \"{:_.0f}\".format"
   ]
  },
  {
   "cell_type": "code",
   "execution_count": 214,
   "metadata": {},
   "outputs": [],
   "source": [
    "pd.set_option(\"display.max.columns\", 300)"
   ]
  },
  {
   "cell_type": "code",
   "execution_count": null,
   "metadata": {},
   "outputs": [],
   "source": [
    "schema = \"capstone_24_4_group1\"\n",
    "display(schema)\n",
    "box_query = f'''   SELECT *\n",
    "                    FROM {schema}.\"box_office_data_inflated\"\n",
    "                    '''\n",
    "box_df = sqlf.get_dataframe(box_query)"
   ]
  },
  {
   "cell_type": "code",
   "execution_count": null,
   "metadata": {},
   "outputs": [],
   "source": [
    "box_df.head()"
   ]
  },
  {
   "cell_type": "markdown",
   "metadata": {},
   "source": [
    "Correct Column Names"
   ]
  },
  {
   "cell_type": "code",
   "execution_count": 183,
   "metadata": {},
   "outputs": [],
   "source": [
    "heading_list = box_df.columns.values\n",
    "for index, heading in enumerate(heading_list):\n",
    "    heading = heading.replace(\"(\", \"\")\n",
    "    heading = heading.replace(\"\\'\", \"\")\n",
    "    heading = heading.replace(\",\", \"\")\n",
    "    heading = heading.replace(\")\", \"\").strip()\n",
    "    heading_list[index] = heading"
   ]
  },
  {
   "cell_type": "code",
   "execution_count": null,
   "metadata": {},
   "outputs": [],
   "source": [
    "box_df.columns = heading_list\n",
    "box_df.head()"
   ]
  },
  {
   "cell_type": "markdown",
   "metadata": {},
   "source": [
    "### Create Sum for inflated values"
   ]
  },
  {
   "cell_type": "code",
   "execution_count": null,
   "metadata": {},
   "outputs": [],
   "source": [
    "inflated_filter = (box_df.columns.str.startswith(\"inflated\")) | (box_df.columns.str.startswith(\"tconst\"))\n",
    "\n",
    "calculation_df = box_df.loc[:, inflated_filter].copy()\n",
    "calculation_df.head()"
   ]
  },
  {
   "cell_type": "code",
   "execution_count": null,
   "metadata": {},
   "outputs": [],
   "source": [
    "calculation_df.drop(columns=[\"inflated_values Worldwide\", \"inflated_values International\"], inplace=True)\n",
    "calculation_df"
   ]
  },
  {
   "cell_type": "code",
   "execution_count": 187,
   "metadata": {},
   "outputs": [],
   "source": [
    "calculation_df[\"world_inflated_values\"] = calculation_df.iloc[:,1:].sum(axis=1)"
   ]
  },
  {
   "cell_type": "code",
   "execution_count": null,
   "metadata": {},
   "outputs": [],
   "source": [
    "calculation_df"
   ]
  },
  {
   "cell_type": "code",
   "execution_count": null,
   "metadata": {},
   "outputs": [],
   "source": [
    "box_df_added = pd.merge(box_df, calculation_df[[\"tconst\", \"world_inflated_values\"]], how=\"inner\", on=\"tconst\")\n",
    "box_df_added"
   ]
  },
  {
   "cell_type": "code",
   "execution_count": null,
   "metadata": {},
   "outputs": [],
   "source": [
    "box_df.shape"
   ]
  },
  {
   "cell_type": "markdown",
   "metadata": {},
   "source": [
    "### Create Sum for non_infalted values"
   ]
  },
  {
   "cell_type": "code",
   "execution_count": null,
   "metadata": {},
   "outputs": [],
   "source": [
    "inflated_filter = (box_df.columns.str.startswith(\"value\")) | (box_df.columns.str.startswith(\"tconst\"))\n",
    "\n",
    "calculation_df = box_df.loc[:, inflated_filter].copy()\n",
    "calculation_df.drop(columns=[\"value Worldwide\", \"value International\"], inplace=True)\n",
    "calculation_df"
   ]
  },
  {
   "cell_type": "code",
   "execution_count": 192,
   "metadata": {},
   "outputs": [],
   "source": [
    "calculation_df[\"world_value\"] = calculation_df.iloc[:,1:].sum(axis=1)"
   ]
  },
  {
   "cell_type": "code",
   "execution_count": null,
   "metadata": {},
   "outputs": [],
   "source": [
    "calculation_df"
   ]
  },
  {
   "cell_type": "code",
   "execution_count": null,
   "metadata": {},
   "outputs": [],
   "source": [
    "box_df_added = pd.merge(box_df_added, calculation_df[[\"tconst\", \"world_value\"]], how=\"inner\", on=\"tconst\")\n",
    "box_df_added"
   ]
  },
  {
   "cell_type": "code",
   "execution_count": null,
   "metadata": {},
   "outputs": [],
   "source": [
    "box_df.shape"
   ]
  },
  {
   "cell_type": "markdown",
   "metadata": {},
   "source": [
    "### Compare calculated worldwide with IMDB worldwide"
   ]
  },
  {
   "cell_type": "code",
   "execution_count": null,
   "metadata": {},
   "outputs": [],
   "source": [
    "worldwide_comparison = box_df_added.loc[box_df_added[\"value Worldwide\"].notnull(), [\"tconst\",\"value Worldwide\", \"world_value\"]].sort_values(by=\"value Worldwide\")\n",
    "worldwide_comparison.columns = [\"tconst\",\"imdb_worldwide\", \"calculated_worldwide\"]\n",
    "worldwide_comparison"
   ]
  },
  {
   "cell_type": "code",
   "execution_count": null,
   "metadata": {},
   "outputs": [],
   "source": [
    "worldwide_comparison[\"difference\"] = worldwide_comparison[\"imdb_worldwide\"] - worldwide_comparison[\"calculated_worldwide\"]\n",
    "display(worldwide_comparison.sort_values(by=\"difference\").head(6))\n",
    "display(worldwide_comparison.sort_values(by=\"difference\", ascending=False).head(50))"
   ]
  },
  {
   "cell_type": "code",
   "execution_count": null,
   "metadata": {},
   "outputs": [],
   "source": [
    "worldwide_comparison[\"difference_perc\"] = (worldwide_comparison[\"difference\"] / worldwide_comparison[\"calculated_worldwide\"]) * 100\n",
    "display(worldwide_comparison.sort_values(by=\"difference_perc\", ascending=False).head(30))"
   ]
  },
  {
   "cell_type": "code",
   "execution_count": 198,
   "metadata": {},
   "outputs": [],
   "source": [
    "import seaborn as sns"
   ]
  },
  {
   "cell_type": "code",
   "execution_count": 199,
   "metadata": {},
   "outputs": [],
   "source": [
    "import matplotlib.pyplot as plt"
   ]
  },
  {
   "cell_type": "code",
   "execution_count": null,
   "metadata": {},
   "outputs": [],
   "source": [
    "plt.figure(figsize=(12,8))\n",
    "\n",
    "sns.histplot(data=worldwide_comparison, x= \"difference\", bins=50)\n",
    "\n",
    "\n",
    "\n",
    "plt.show()"
   ]
  },
  {
   "cell_type": "code",
   "execution_count": null,
   "metadata": {},
   "outputs": [],
   "source": [
    "worldwide_comparison[worldwide_comparison[\"difference_perc\"] <= 10]"
   ]
  },
  {
   "cell_type": "markdown",
   "metadata": {},
   "source": [
    "### Plan:\n",
    "\n",
    "- Whenever Calculated > IMDB (5 cases) = Keep calculated as is\n",
    "- Whenever Calculated < IMDB (many cases) = Overwrite Calculated with IMDB\n",
    "<br><br>\n",
    "- After values are overwritten, drop IMDB and keep calculated only."
   ]
  },
  {
   "cell_type": "code",
   "execution_count": null,
   "metadata": {},
   "outputs": [],
   "source": [
    "box_df_added.head()"
   ]
  },
  {
   "cell_type": "code",
   "execution_count": null,
   "metadata": {},
   "outputs": [],
   "source": [
    "# calculated difference of imdb worldwide - calculated worldwide\n",
    "box_df_added[\"worldwide_difference\"] = box_df_added[\"inflated_values Worldwide\"] - box_df_added[\"world_inflated_values\"]\n",
    "box_df_added.head()"
   ]
  },
  {
   "cell_type": "code",
   "execution_count": 218,
   "metadata": {},
   "outputs": [],
   "source": [
    "# filter for positive difference (IMDB > calc) and overwrite calculated with IMDB\n",
    "positive_difference_mask = box_df_added[\"worldwide_difference\"] > 0\n",
    "box_df_added.loc[positive_difference_mask, \"world_inflated_values\"] = box_df_added.loc[positive_difference_mask, \"inflated_values Worldwide\"]"
   ]
  },
  {
   "cell_type": "code",
   "execution_count": null,
   "metadata": {},
   "outputs": [],
   "source": [
    "# calculate difference after the changes -> Expectation: Now it should be zero except for the 5 negative cases\n",
    "box_df_added[\"worldwide_difference_after\"] = box_df_added[\"inflated_values Worldwide\"] - box_df_added[\"world_inflated_values\"]\n",
    "box_df_added.head()"
   ]
  },
  {
   "cell_type": "code",
   "execution_count": null,
   "metadata": {},
   "outputs": [],
   "source": [
    "# check assumption\n",
    "box_df_added.loc[positive_difference_mask, \"worldwide_difference_after\"].sum()"
   ]
  },
  {
   "cell_type": "code",
   "execution_count": 224,
   "metadata": {},
   "outputs": [],
   "source": [
    "# drop all unneccessary columns/ confusing columns\n",
    "box_df_added.drop(columns=[\"worldwide_difference\", \"worldwide_difference_after\", \"inflated_values International\", \"inflated_values Worldwide\"], inplace=True)"
   ]
  },
  {
   "cell_type": "markdown",
   "metadata": {},
   "source": [
    "### Repeat for non_inflated values"
   ]
  },
  {
   "cell_type": "code",
   "execution_count": null,
   "metadata": {},
   "outputs": [],
   "source": [
    "# calculated difference of imdb worldwide - calculated worldwide\n",
    "box_df_added[\"worldwide_difference\"] = box_df_added[\"value Worldwide\"] - box_df_added[\"world_value\"]\n",
    "box_df_added.head()"
   ]
  },
  {
   "cell_type": "code",
   "execution_count": 226,
   "metadata": {},
   "outputs": [],
   "source": [
    "# filter for positive difference (IMDB > calc) and overwrite calculated with IMDB\n",
    "positive_difference_mask = box_df_added[\"worldwide_difference\"] > 0\n",
    "box_df_added.loc[positive_difference_mask, \"world_value\"] = box_df_added.loc[positive_difference_mask, \"value Worldwide\"]"
   ]
  },
  {
   "cell_type": "code",
   "execution_count": null,
   "metadata": {},
   "outputs": [],
   "source": [
    "# calculate difference after the changes -> Expectation: Now it should be zero except for the 5 negative cases\n",
    "box_df_added[\"worldwide_difference_after\"] = box_df_added[\"value Worldwide\"] - box_df_added[\"world_value\"]\n",
    "box_df_added.head()"
   ]
  },
  {
   "cell_type": "code",
   "execution_count": null,
   "metadata": {},
   "outputs": [],
   "source": [
    "# check assumption\n",
    "box_df_added.loc[positive_difference_mask, \"worldwide_difference_after\"].sum()"
   ]
  },
  {
   "cell_type": "code",
   "execution_count": 229,
   "metadata": {},
   "outputs": [],
   "source": [
    "# drop all unneccessary columns/ confusing columns\n",
    "box_df_added.drop(columns=[\"worldwide_difference\", \"worldwide_difference_after\", \"value International\", \"value Worldwide\"], inplace=True)"
   ]
  },
  {
   "cell_type": "code",
   "execution_count": null,
   "metadata": {},
   "outputs": [],
   "source": [
    "box_df_added"
   ]
  },
  {
   "cell_type": "markdown",
   "metadata": {},
   "source": [
    "### DONE: Worldwide values for inflated and non-inflated columns are calculated and aligned with IMDB online Data\n",
    "\n"
   ]
  },
  {
   "cell_type": "code",
   "execution_count": 236,
   "metadata": {},
   "outputs": [],
   "source": [
    "table_name = 'FINAL_box_office_data_inflated'"
   ]
  },
  {
   "cell_type": "code",
   "execution_count": null,
   "metadata": {},
   "outputs": [],
   "source": [
    "engine = sqlf.get_engine()\n",
    "engine"
   ]
  },
  {
   "cell_type": "code",
   "execution_count": null,
   "metadata": {},
   "outputs": [],
   "source": [
    "# Write records stored in a dataframe to SQL database\n",
    "if engine != None:\n",
    "    try:\n",
    "        box_df_added.to_sql(table_name, # Name of SQL table\n",
    "                        con=engine, # Engine or connection\n",
    "                        if_exists='replace', # Drop the table before inserting new values \n",
    "                        schema=schema, # your class schema\n",
    "                        index=False, # Write DataFrame index as a column\n",
    "                        chunksize=5000, # Specify the number of rows in each batch to be written at a time\n",
    "                        method='multi') # Pass multiple values in a single INSERT clause\n",
    "        print(f\"The {table_name} table was imported successfully.\")\n",
    "    # Error handling\n",
    "    except (Exception, psycopg2.DatabaseError) as error:\n",
    "        print(error)\n",
    "        engine = None\n",
    "else:\n",
    "    print(\"shit\")"
   ]
  },
  {
   "cell_type": "code",
   "execution_count": null,
   "metadata": {},
   "outputs": [],
   "source": []
  }
 ],
 "metadata": {
  "kernelspec": {
   "display_name": "nf_sql_unidecode",
   "language": "python",
   "name": "python3"
  },
  "language_info": {
   "codemirror_mode": {
    "name": "ipython",
    "version": 3
   },
   "file_extension": ".py",
   "mimetype": "text/x-python",
   "name": "python",
   "nbconvert_exporter": "python",
   "pygments_lexer": "ipython3",
   "version": "3.9.7"
  }
 },
 "nbformat": 4,
 "nbformat_minor": 2
}

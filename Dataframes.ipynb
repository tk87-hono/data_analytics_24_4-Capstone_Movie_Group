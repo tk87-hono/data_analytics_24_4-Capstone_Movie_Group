{
 "cells": [
  {
   "cell_type": "code",
   "execution_count": 2,
   "metadata": {},
   "outputs": [],
   "source": [
    "import pandas as pd"
   ]
  },
  {
   "cell_type": "code",
   "execution_count": 3,
   "metadata": {},
   "outputs": [],
   "source": [
    "df_admissions = pd.read_csv('./data/1950-2023.csv')"
   ]
  },
  {
   "cell_type": "code",
   "execution_count": 22,
   "metadata": {},
   "outputs": [],
   "source": [
    "df_admissions['Directors'].fillna('Unknown', inplace=True)"
   ]
  },
  {
   "cell_type": "code",
   "execution_count": 23,
   "metadata": {},
   "outputs": [
    {
     "data": {
      "text/plain": [
       "Original title              0\n",
       "Producing country           0\n",
       "Production year             0\n",
       "Directors                   0\n",
       "Admissions null-null        0\n",
       "Total EU27+GB since 1996    0\n",
       "dtype: int64"
      ]
     },
     "execution_count": 23,
     "metadata": {},
     "output_type": "execute_result"
    }
   ],
   "source": [
    "df_admissions.isnull().sum()"
   ]
  },
  {
   "cell_type": "code",
   "execution_count": 46,
   "metadata": {},
   "outputs": [
    {
     "data": {
      "text/plain": [
       "0"
      ]
     },
     "execution_count": 46,
     "metadata": {},
     "output_type": "execute_result"
    }
   ],
   "source": [
    "# Checked if values of the columns are identical\n",
    "(df_admissions['Admissions null-null'].str.replace(' ', '').astype(int) - df_admissions['Total EU27+GB since 1996'].str.replace(' ', '').astype(int)).sum()"
   ]
  },
  {
   "cell_type": "code",
   "execution_count": 64,
   "metadata": {},
   "outputs": [],
   "source": [
    "df_admissions_clean = df_admissions.drop('Total EU27+GB since 1996', axis=1)\n",
    "df_admissions_clean.rename(columns={'Admissions null-null': 'visitors'}, inplace=True)\n",
    "df_admissions_clean.columns = df_admissions_clean.columns.str.lower()\n",
    "df_admissions_clean['visitors'] = df_admissions_clean['visitors'].str.replace(' ', '').astype('int64')"
   ]
  },
  {
   "cell_type": "code",
   "execution_count": 65,
   "metadata": {},
   "outputs": [
    {
     "name": "stdout",
     "output_type": "stream",
     "text": [
      "<class 'pandas.core.frame.DataFrame'>\n",
      "RangeIndex: 13669 entries, 0 to 13668\n",
      "Data columns (total 5 columns):\n",
      " #   Column             Non-Null Count  Dtype \n",
      "---  ------             --------------  ----- \n",
      " 0   original title     13669 non-null  object\n",
      " 1   producing country  13669 non-null  object\n",
      " 2   production year    13669 non-null  int64 \n",
      " 3   directors          13669 non-null  object\n",
      " 4   visitors           13669 non-null  int64 \n",
      "dtypes: int64(2), object(3)\n",
      "memory usage: 534.1+ KB\n"
     ]
    }
   ],
   "source": [
    "df_admissions_clean.info()"
   ]
  },
  {
   "cell_type": "code",
   "execution_count": 68,
   "metadata": {},
   "outputs": [],
   "source": [
    "df_admissions_clean.to_csv('./data/visitors_per_year_and_movie.csv', sep=',')"
   ]
  }
 ],
 "metadata": {
  "kernelspec": {
   "display_name": "nf_sql",
   "language": "python",
   "name": "python3"
  },
  "language_info": {
   "codemirror_mode": {
    "name": "ipython",
    "version": 3
   },
   "file_extension": ".py",
   "mimetype": "text/x-python",
   "name": "python",
   "nbconvert_exporter": "python",
   "pygments_lexer": "ipython3",
   "version": "3.9.19"
  }
 },
 "nbformat": 4,
 "nbformat_minor": 2
}

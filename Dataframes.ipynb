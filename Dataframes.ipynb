{
 "cells": [
  {
   "cell_type": "code",
   "execution_count": 1,
   "metadata": {},
   "outputs": [],
   "source": [
    "import pandas as pd\n",
    "import numpy as np"
   ]
  },
  {
   "cell_type": "markdown",
   "metadata": {},
   "source": [
    "### Ticket sales in Europe"
   ]
  },
  {
   "cell_type": "code",
   "execution_count": 2,
   "metadata": {},
   "outputs": [],
   "source": [
    "df_admissions_EU = pd.read_csv('./data/Movie_numbers_1996-2023_EU.csv')"
   ]
  },
  {
   "cell_type": "code",
   "execution_count": null,
   "metadata": {},
   "outputs": [],
   "source": [
    "df_admissions_EU.isnull().sum()"
   ]
  },
  {
   "cell_type": "code",
   "execution_count": null,
   "metadata": {},
   "outputs": [],
   "source": [
    "df_admissions_EU.info()"
   ]
  },
  {
   "cell_type": "code",
   "execution_count": null,
   "metadata": {},
   "outputs": [],
   "source": [
    "df_admissions_EU.head(20)"
   ]
  },
  {
   "cell_type": "code",
   "execution_count": 6,
   "metadata": {},
   "outputs": [],
   "source": [
    "df_admissions_EU.rename(columns={'Admissions 1996-1996' : 'tickets_sold',\n",
    "                                 'Total EU27+GB since 1996' : 'tickets_sold_since_1996',\n",
    "                                 'Original title' : 'title',\n",
    "                                 'Production year' : 'year'}, inplace=True)\n",
    "df_admissions_EU.columns = df_admissions_EU.columns.str.lower().str.replace(' ', '_')\n",
    "df_admissions_EU.drop(columns=['directors'], inplace=True)"
   ]
  },
  {
   "cell_type": "code",
   "execution_count": 7,
   "metadata": {},
   "outputs": [],
   "source": [
    "df_admissions_EU['tickets_sold'] = df_admissions_EU['tickets_sold'].str.replace(' ', '')\n",
    "df_admissions_EU['tickets_sold_since_1996'] = df_admissions_EU['tickets_sold_since_1996'].str.replace(' ', '')"
   ]
  },
  {
   "cell_type": "code",
   "execution_count": 8,
   "metadata": {},
   "outputs": [],
   "source": [
    "df_admissions_EU['tickets_sold'] = pd.to_numeric(df_admissions_EU['tickets_sold'])\n",
    "df_admissions_EU['tickets_sold_since_1996'] = pd.to_numeric(df_admissions_EU['tickets_sold_since_1996'])"
   ]
  },
  {
   "cell_type": "code",
   "execution_count": null,
   "metadata": {},
   "outputs": [],
   "source": [
    "df_admissions_EU.shape"
   ]
  },
  {
   "cell_type": "code",
   "execution_count": null,
   "metadata": {},
   "outputs": [],
   "source": [
    "df_admissions_EU['title'].nunique()"
   ]
  },
  {
   "cell_type": "code",
   "execution_count": null,
   "metadata": {},
   "outputs": [],
   "source": [
    "df_admissions_EU_clean = df_admissions_EU.groupby(['title', 'producing_country', 'year', 'tickets_sold_since_1996']).sum().reset_index()\n",
    "df_admissions_EU_clean"
   ]
  },
  {
   "cell_type": "code",
   "execution_count": null,
   "metadata": {},
   "outputs": [],
   "source": [
    "display(df_admissions_EU_clean[df_admissions_EU_clean['title'] == 'Avatar'])\n",
    "display(df_admissions_EU[df_admissions_EU['title'] == 'Avatar'])"
   ]
  },
  {
   "cell_type": "code",
   "execution_count": null,
   "metadata": {},
   "outputs": [],
   "source": [
    "df_admissions_EU_clean.head(20)"
   ]
  },
  {
   "cell_type": "markdown",
   "metadata": {},
   "source": [
    "### Ticket sales in North America\n"
   ]
  },
  {
   "cell_type": "code",
   "execution_count": null,
   "metadata": {},
   "outputs": [],
   "source": [
    "df_admissions_NA = pd.read_csv('./Data/Movie_numbers_1996-2023_USA.csv')\n",
    "df_admissions_NA.head(20)"
   ]
  },
  {
   "cell_type": "code",
   "execution_count": null,
   "metadata": {},
   "outputs": [],
   "source": [
    "df_admissions_NA.info()"
   ]
  },
  {
   "cell_type": "code",
   "execution_count": 16,
   "metadata": {},
   "outputs": [],
   "source": [
    "df_admissions_NA['Release\\nDate'] = pd.to_datetime(df_admissions_NA['Release\\nDate'])\n",
    "df_admissions_NA['Tickets Sold'] = df_admissions_NA['Tickets Sold'].str.replace(',', '')\n",
    "df_admissions_NA['Tickets Sold'] = pd.to_numeric(df_admissions_NA['Tickets Sold'])"
   ]
  },
  {
   "cell_type": "code",
   "execution_count": null,
   "metadata": {},
   "outputs": [],
   "source": [
    "df_admissions_NA['1996 Gross'] = df_admissions_NA['1996 Gross'].str.replace(',', '')\n",
    "df_admissions_NA['1996 Gross'] = df_admissions_NA['1996 Gross'].str.replace('$', '')"
   ]
  },
  {
   "cell_type": "code",
   "execution_count": 18,
   "metadata": {},
   "outputs": [],
   "source": [
    "df_admissions_NA['1996 Gross'] = pd.to_numeric(df_admissions_NA['1996 Gross'])"
   ]
  },
  {
   "cell_type": "code",
   "execution_count": null,
   "metadata": {},
   "outputs": [],
   "source": [
    "df_admissions_NA.rename(columns={'Release\\nDate' : 'release_date',\n",
    "                                 'Movie' : 'title',\n",
    "                                 '1996 Gross' : 'Gross_Sales',\n",
    "                                 'Tickets Sold' : 'tickets_sold'}, inplace=True)\n",
    "df_admissions_NA.columns = df_admissions_NA.columns.str.lower()\n",
    "df_admissions_NA.columns"
   ]
  },
  {
   "cell_type": "code",
   "execution_count": null,
   "metadata": {},
   "outputs": [],
   "source": [
    "df_admissions_NA['title'].nunique()"
   ]
  },
  {
   "cell_type": "code",
   "execution_count": null,
   "metadata": {},
   "outputs": [],
   "source": [
    "df_admissions_NA_clean = df_admissions_NA.groupby(['title', 'release_date', 'distributor']).sum().reset_index()\n",
    "df_admissions_NA_clean.drop(columns=['rank', 'year'], inplace=True)\n",
    "df_admissions_NA_clean.shape"
   ]
  },
  {
   "cell_type": "code",
   "execution_count": null,
   "metadata": {},
   "outputs": [],
   "source": [
    "display(df_admissions_NA_clean[df_admissions_NA_clean['title'] == 'Avatar'])\n",
    "display(df_admissions_NA[df_admissions_NA['title'] == 'Avatar'])"
   ]
  },
  {
   "cell_type": "code",
   "execution_count": null,
   "metadata": {},
   "outputs": [],
   "source": [
    "df_admissions_NA_clean.groupby(['title']).size().sort_values(ascending=False)"
   ]
  },
  {
   "cell_type": "code",
   "execution_count": null,
   "metadata": {},
   "outputs": [],
   "source": [
    "df_admissions_NA_clean[df_admissions_NA_clean['title'] == 'Halloween']"
   ]
  },
  {
   "cell_type": "code",
   "execution_count": null,
   "metadata": {},
   "outputs": [],
   "source": [
    "display(df_admissions_NA_clean.head())\n",
    "display(df_admissions_EU_clean.head())"
   ]
  },
  {
   "cell_type": "markdown",
   "metadata": {},
   "source": [
    "### IMDB DATA"
   ]
  },
  {
   "cell_type": "code",
   "execution_count": 26,
   "metadata": {},
   "outputs": [],
   "source": [
    "df_movie_list_years = pd.read_csv('./Data/movie_list_years.csv')\n",
    "df_akas = pd.read_csv('./Data/title.akas.csv')\n",
    "df_basics = pd.read_csv('./Data/title.basics.csv')\n",
    "df_crew = pd.read_csv('./Data/title.crew.csv')\n",
    "df_principals = pd.read_csv('./Data/title.principals.csv')\n",
    "df_ratings = pd.read_csv('./Data/title.ratings.csv')\n",
    "df_names = pd.read_csv('./Data/name.basics.csv')"
   ]
  },
  {
   "cell_type": "code",
   "execution_count": 27,
   "metadata": {},
   "outputs": [],
   "source": [
    "df_movie_list_years.replace('\\\\N', np.nan, inplace=True)\n",
    "df_akas.replace('\\\\N', np.nan, inplace=True)\n",
    "df_basics.replace('\\\\N', np.nan, inplace=True)\n",
    "df_crew.replace('\\\\N', np.nan, inplace=True)\n",
    "df_principals.replace('\\\\N', np.nan, inplace=True)\n",
    "df_ratings.replace('\\\\N', np.nan, inplace=True)\n",
    "df_names.replace('\\\\N', np.nan, inplace=True)"
   ]
  },
  {
   "cell_type": "code",
   "execution_count": null,
   "metadata": {},
   "outputs": [],
   "source": [
    "display(df_ratings.head(1))"
   ]
  },
  {
   "cell_type": "code",
   "execution_count": 29,
   "metadata": {},
   "outputs": [],
   "source": [
    "df_crew_named = df_crew.merge(df_names, how='left', left_on='directors', right_on='nconst')\n",
    "df_crew_named.drop(columns=['nconst', 'birthYear', 'deathYear', 'primaryProfession'], inplace=True)"
   ]
  },
  {
   "cell_type": "code",
   "execution_count": 30,
   "metadata": {},
   "outputs": [],
   "source": [
    "df_crew_named.rename(columns={'primaryName' : 'directors_name',\n",
    "                              'knownForTitles' : 'known_for_directing'}, inplace=True)"
   ]
  },
  {
   "cell_type": "code",
   "execution_count": null,
   "metadata": {},
   "outputs": [],
   "source": [
    "df_crew_named['writers'].str.count(',').sort_values(ascending=False)"
   ]
  },
  {
   "cell_type": "code",
   "execution_count": null,
   "metadata": {},
   "outputs": [],
   "source": [
    "df_crew_named.iloc[427635]"
   ]
  },
  {
   "cell_type": "markdown",
   "metadata": {},
   "source": [
    "### IMDB Final / Merging"
   ]
  },
  {
   "cell_type": "code",
   "execution_count": 33,
   "metadata": {},
   "outputs": [],
   "source": [
    "df_imdb_final = df_movie_list_years.merge(df_crew, how='left', on='tconst')"
   ]
  },
  {
   "cell_type": "code",
   "execution_count": null,
   "metadata": {},
   "outputs": [],
   "source": [
    "df_imdb_final.shape"
   ]
  },
  {
   "cell_type": "code",
   "execution_count": null,
   "metadata": {},
   "outputs": [],
   "source": [
    "df_imdb_final['directors'].str.count(',').nunique()"
   ]
  },
  {
   "cell_type": "code",
   "execution_count": null,
   "metadata": {},
   "outputs": [],
   "source": [
    "df_imdb_final['directors_count'] = df_imdb_final['directors'].str.count(',') + 1\n",
    "df_imdb_final['directors_count'].value_counts()/len(df_imdb_final) * 100"
   ]
  },
  {
   "cell_type": "code",
   "execution_count": 37,
   "metadata": {},
   "outputs": [],
   "source": [
    "df_imdb_final[['director', 'director2', 'director3']] = df_imdb_final['directors'].str.split(',', n=2, expand=True)\n",
    "df_imdb_final.drop(columns='directors', inplace=True)"
   ]
  },
  {
   "cell_type": "code",
   "execution_count": null,
   "metadata": {},
   "outputs": [],
   "source": [
    "df_imdb_final['writers_count'] = df_imdb_final['writers'].str.count(',') + 1\n",
    "df_imdb_final['writers_count'].value_counts()/len(df_imdb_final[df_imdb_final['writers_count'].notnull()]) * 100"
   ]
  },
  {
   "cell_type": "code",
   "execution_count": 39,
   "metadata": {},
   "outputs": [],
   "source": [
    "df_imdb_final[['writer', 'writer2', 'writer3']] = df_imdb_final['writers'].str.split(',', n=2, expand=True)\n",
    "df_imdb_final.drop(columns='writers', inplace=True)"
   ]
  },
  {
   "cell_type": "code",
   "execution_count": null,
   "metadata": {},
   "outputs": [],
   "source": [
    "df_imdb_final"
   ]
  },
  {
   "cell_type": "markdown",
   "metadata": {},
   "source": [
    "### Set option"
   ]
  },
  {
   "cell_type": "code",
   "execution_count": 41,
   "metadata": {},
   "outputs": [],
   "source": [
    "pd.set_option('display.max_columns', None)\n",
    "# pd.set_option('display.max_rows', 10)"
   ]
  },
  {
   "cell_type": "code",
   "execution_count": 42,
   "metadata": {},
   "outputs": [],
   "source": [
    "df_imdb_final = df_imdb_final.merge(df_names[['nconst', 'primaryName']], how='left', left_on='director', right_on='nconst')\n",
    "df_imdb_final.drop(columns='nconst', inplace=True)\n",
    "df_imdb_final.rename(columns={'primaryName' : 'director_name'}, inplace=True)\n",
    "df_imdb_final = df_imdb_final.merge(df_names[['nconst', 'primaryName']], how='left', left_on='director2', right_on='nconst')\n",
    "df_imdb_final.drop(columns='nconst', inplace=True)\n",
    "df_imdb_final.rename(columns={'primaryName' : 'director2_name'}, inplace=True)\n",
    "df_imdb_final = df_imdb_final.merge(df_names[['nconst', 'primaryName']], how='left', left_on='director3', right_on='nconst')\n",
    "df_imdb_final.drop(columns='nconst', inplace=True)\n",
    "df_imdb_final.rename(columns={'primaryName' : 'director3_name'}, inplace=True)"
   ]
  },
  {
   "cell_type": "code",
   "execution_count": 43,
   "metadata": {},
   "outputs": [],
   "source": [
    "df_imdb_final = df_imdb_final.merge(df_names[['nconst', 'primaryName']], how='left', left_on='writer', right_on='nconst')\n",
    "df_imdb_final.drop(columns='nconst', inplace=True)\n",
    "df_imdb_final.rename(columns={'primaryName' : 'writer_name'}, inplace=True)\n",
    "df_imdb_final = df_imdb_final.merge(df_names[['nconst', 'primaryName']], how='left', left_on='writer2', right_on='nconst')\n",
    "df_imdb_final.drop(columns='nconst', inplace=True)\n",
    "df_imdb_final.rename(columns={'primaryName' : 'writer2_name'}, inplace=True)\n",
    "df_imdb_final = df_imdb_final.merge(df_names[['nconst', 'primaryName']], how='left', left_on='writer3', right_on='nconst')\n",
    "df_imdb_final.drop(columns='nconst', inplace=True)\n",
    "df_imdb_final.rename(columns={'primaryName' : 'writer3_name'}, inplace=True)"
   ]
  },
  {
   "cell_type": "code",
   "execution_count": null,
   "metadata": {},
   "outputs": [],
   "source": [
    "df_imdb_final"
   ]
  },
  {
   "cell_type": "markdown",
   "metadata": {},
   "source": [
    "### Principals"
   ]
  },
  {
   "cell_type": "code",
   "execution_count": null,
   "metadata": {},
   "outputs": [],
   "source": [
    "df_principals['category'].isin(['actor', 'actress'])"
   ]
  },
  {
   "cell_type": "code",
   "execution_count": null,
   "metadata": {},
   "outputs": [],
   "source": [
    "df_principals['ordering'].unique()"
   ]
  },
  {
   "cell_type": "code",
   "execution_count": null,
   "metadata": {},
   "outputs": [],
   "source": [
    "df_principals['tconst'].nunique()"
   ]
  },
  {
   "cell_type": "code",
   "execution_count": 48,
   "metadata": {},
   "outputs": [],
   "source": [
    "# df_principals[df_principals['category'].isin(['actor', 'actress'])].groupby('ordering').size() / (df_principals['tconst'].nunique()) * 100"
   ]
  },
  {
   "cell_type": "code",
   "execution_count": 49,
   "metadata": {},
   "outputs": [],
   "source": [
    "# df_principals[df_principals['category'].isin(['actor', 'actress'])].groupby('ordering').size() / (df_principals.loc[df_principals['category'].isin(['actor', 'actress']), ['tconst']].nunique()[0]) * 100"
   ]
  },
  {
   "cell_type": "code",
   "execution_count": 50,
   "metadata": {},
   "outputs": [],
   "source": [
    "df_principals_filtered = df_principals.copy()"
   ]
  },
  {
   "cell_type": "code",
   "execution_count": 51,
   "metadata": {},
   "outputs": [],
   "source": [
    "df_principals_filtered = df_principals_filtered[df_principals_filtered['category'].isin(['actor', 'actress'])]"
   ]
  },
  {
   "cell_type": "code",
   "execution_count": null,
   "metadata": {},
   "outputs": [],
   "source": [
    "df_principals_filtered['category'].unique()"
   ]
  },
  {
   "cell_type": "code",
   "execution_count": 53,
   "metadata": {},
   "outputs": [],
   "source": [
    "df_principals_filtered = df_principals_filtered[df_principals_filtered['ordering'] <= 5]"
   ]
  },
  {
   "cell_type": "code",
   "execution_count": null,
   "metadata": {},
   "outputs": [],
   "source": [
    "df_principals_filtered['ordering'].unique()"
   ]
  },
  {
   "cell_type": "code",
   "execution_count": null,
   "metadata": {},
   "outputs": [],
   "source": [
    "df_principals_filtered['tconst'].nunique()"
   ]
  },
  {
   "cell_type": "code",
   "execution_count": 56,
   "metadata": {},
   "outputs": [],
   "source": [
    "df_principals_filtered = df_principals_filtered.merge(df_names[['nconst', 'primaryName']], how='left', on='nconst')"
   ]
  },
  {
   "cell_type": "code",
   "execution_count": 57,
   "metadata": {},
   "outputs": [],
   "source": [
    "df_principals_filtered.rename(columns={'primaryName' : 'a_name'}, inplace=True)"
   ]
  },
  {
   "cell_type": "code",
   "execution_count": 58,
   "metadata": {},
   "outputs": [],
   "source": [
    "df_principals_filtered = df_principals_filtered.pivot(index='tconst', columns='ordering', values='a_name')"
   ]
  },
  {
   "cell_type": "code",
   "execution_count": 59,
   "metadata": {},
   "outputs": [],
   "source": [
    "df_principals_filtered = df_principals_filtered.reset_index()"
   ]
  },
  {
   "cell_type": "code",
   "execution_count": null,
   "metadata": {},
   "outputs": [],
   "source": [
    "df_principals_filtered.rename_axis(None)"
   ]
  },
  {
   "cell_type": "code",
   "execution_count": 61,
   "metadata": {},
   "outputs": [],
   "source": [
    "df_principals_filtered.rename_axis('', axis=1, inplace=True)"
   ]
  },
  {
   "cell_type": "code",
   "execution_count": 62,
   "metadata": {},
   "outputs": [],
   "source": [
    "df_principals_filtered.rename(columns={1 : 'acting',\n",
    "                                       2 : 'acting2',\n",
    "                                       3 : 'acting3',\n",
    "                                       4 : 'acting4',\n",
    "                                       5 : 'acting5'}, inplace=True)"
   ]
  },
  {
   "cell_type": "code",
   "execution_count": null,
   "metadata": {},
   "outputs": [],
   "source": [
    "df_principals_filtered"
   ]
  },
  {
   "cell_type": "code",
   "execution_count": 64,
   "metadata": {},
   "outputs": [],
   "source": [
    "df_imdb_final = df_imdb_final.merge(df_principals_filtered, how='left', on='tconst')"
   ]
  },
  {
   "cell_type": "code",
   "execution_count": 65,
   "metadata": {},
   "outputs": [],
   "source": [
    "df_akas.rename(columns={'titleId' : 'tconst'}, inplace=True)"
   ]
  },
  {
   "cell_type": "markdown",
   "metadata": {},
   "source": [
    "### Ratings"
   ]
  },
  {
   "cell_type": "code",
   "execution_count": 66,
   "metadata": {},
   "outputs": [],
   "source": [
    "df_imdb_final = df_imdb_final.merge(df_ratings, how='left', on='tconst')"
   ]
  },
  {
   "cell_type": "code",
   "execution_count": null,
   "metadata": {},
   "outputs": [],
   "source": [
    "df_imdb_final"
   ]
  },
  {
   "cell_type": "markdown",
   "metadata": {},
   "source": [
    "### Filtering"
   ]
  },
  {
   "cell_type": "code",
   "execution_count": 68,
   "metadata": {},
   "outputs": [],
   "source": [
    "# Filtering for years\n",
    "df_imdb_final = df_imdb_final[(df_imdb_final['startYear'] >= 1997) & (df_imdb_final['startYear'] <= 2023)]"
   ]
  },
  {
   "cell_type": "code",
   "execution_count": null,
   "metadata": {},
   "outputs": [],
   "source": [
    "df_imdb_final[df_imdb_final['tconst'] == 'tt7846844']"
   ]
  },
  {
   "cell_type": "code",
   "execution_count": 70,
   "metadata": {},
   "outputs": [],
   "source": [
    "df_imdb_final = df_imdb_final[df_imdb_final['titleType'] == 'movie']"
   ]
  },
  {
   "cell_type": "code",
   "execution_count": 71,
   "metadata": {},
   "outputs": [],
   "source": [
    "df_imdb_final.drop(columns=['director', 'director2', 'director3', 'writer', 'writer2', 'writer3'], inplace=True)"
   ]
  },
  {
   "cell_type": "code",
   "execution_count": 72,
   "metadata": {},
   "outputs": [],
   "source": [
    "df_imdb_final.rename(columns={'titleType' : 'title_type',\n",
    "                              'primaryTitle' : 'primary_title',\n",
    "                              'originalTitle' : 'original_title',\n",
    "                              'isAdult' : 'is_adult',\n",
    "                              'startYear' : 'year',\n",
    "                              'endYear' : 'end_year',\n",
    "                              'runtimeMinutes' : 'runtime',\n",
    "                              'averageRating' : 'average_rating',\n",
    "                              'numVotes' : 'num_votes'}, inplace=True)"
   ]
  },
  {
   "cell_type": "code",
   "execution_count": 73,
   "metadata": {},
   "outputs": [],
   "source": [
    "df_imdb_final.drop(columns=['end_year'], inplace=True)"
   ]
  },
  {
   "cell_type": "code",
   "execution_count": null,
   "metadata": {},
   "outputs": [],
   "source": [
    "df_imdb_final[df_imdb_final['average_rating'].notnull()].count()"
   ]
  },
  {
   "cell_type": "code",
   "execution_count": null,
   "metadata": {},
   "outputs": [],
   "source": [
    "df_imdb_final.isnull().sum()"
   ]
  },
  {
   "cell_type": "code",
   "execution_count": 76,
   "metadata": {},
   "outputs": [],
   "source": [
    "df_imdb_final.to_csv('./Data/df_imdb_final.csv')"
   ]
  },
  {
   "cell_type": "code",
   "execution_count": null,
   "metadata": {},
   "outputs": [],
   "source": [
    "df_imdb_final.shape"
   ]
  },
  {
   "cell_type": "markdown",
   "metadata": {},
   "source": [
    "### Genre cleaning"
   ]
  },
  {
   "cell_type": "code",
   "execution_count": null,
   "metadata": {},
   "outputs": [],
   "source": [
    "df_imdb_final[df_imdb_final['genres'].str.count(',') == 2.0]"
   ]
  },
  {
   "cell_type": "code",
   "execution_count": 79,
   "metadata": {},
   "outputs": [],
   "source": [
    "df_imdb_final['genres_count'] = df_imdb_final['genres'].str.count(',') + 1"
   ]
  },
  {
   "cell_type": "code",
   "execution_count": null,
   "metadata": {},
   "outputs": [],
   "source": [
    "df_imdb_final.groupby('genres_count').size() / (len(df_imdb_final)) * 100"
   ]
  },
  {
   "cell_type": "code",
   "execution_count": 81,
   "metadata": {},
   "outputs": [],
   "source": [
    "df_imdb_final[['genre', 'genre2', 'genre3']] = df_imdb_final['genres'].str.split(',', n=2, expand=True)"
   ]
  },
  {
   "cell_type": "code",
   "execution_count": 82,
   "metadata": {},
   "outputs": [],
   "source": [
    "df_imdb_final.drop(columns='genres', inplace=True)"
   ]
  },
  {
   "cell_type": "code",
   "execution_count": null,
   "metadata": {},
   "outputs": [],
   "source": [
    "df_imdb_final[df_imdb_final['genre'].isin(['Talk-Show', 'Reality-TV', 'Game-Show'])]"
   ]
  },
  {
   "cell_type": "code",
   "execution_count": null,
   "metadata": {},
   "outputs": [],
   "source": [
    "df_imdb_final.head()"
   ]
  },
  {
   "cell_type": "markdown",
   "metadata": {},
   "source": [
    "### Dropping NaN Ratings"
   ]
  },
  {
   "cell_type": "code",
   "execution_count": null,
   "metadata": {},
   "outputs": [],
   "source": [
    "df_imdb_final[df_imdb_final['average_rating'].isnull()]"
   ]
  },
  {
   "cell_type": "code",
   "execution_count": 86,
   "metadata": {},
   "outputs": [],
   "source": [
    "df_imdb_final = df_imdb_final[df_imdb_final['average_rating'].notnull()]"
   ]
  },
  {
   "cell_type": "markdown",
   "metadata": {},
   "source": [
    "### WIEDER MIT GENRES BESCHAEFTIGEN"
   ]
  },
  {
   "cell_type": "code",
   "execution_count": null,
   "metadata": {},
   "outputs": [],
   "source": [
    "df_imdb_final['genre'].unique()"
   ]
  },
  {
   "cell_type": "code",
   "execution_count": 88,
   "metadata": {},
   "outputs": [],
   "source": [
    "df_imdb_final = df_imdb_final[~df_imdb_final['genre'].isin(['Talk-Show', 'Reality-TV'])]\n",
    "df_imdb_final = df_imdb_final[~df_imdb_final['genre2'].isin(['Talk-Show', 'Reality-TV'])]\n",
    "df_imdb_final = df_imdb_final[~df_imdb_final['genre3'].isin(['Talk-Show', 'Reality-TV', 'Game-Show'])]"
   ]
  },
  {
   "cell_type": "code",
   "execution_count": null,
   "metadata": {},
   "outputs": [],
   "source": [
    "df_imdb_final[df_imdb_final['genre'] == 'News']"
   ]
  },
  {
   "cell_type": "code",
   "execution_count": null,
   "metadata": {},
   "outputs": [],
   "source": [
    "df_imdb_final[df_imdb_final['genre2'] == 'News']"
   ]
  },
  {
   "cell_type": "code",
   "execution_count": null,
   "metadata": {},
   "outputs": [],
   "source": [
    "df_imdb_final[df_imdb_final['genre3'] == 'News']"
   ]
  },
  {
   "cell_type": "code",
   "execution_count": null,
   "metadata": {},
   "outputs": [],
   "source": [
    "df_imdb_final['genre2'].unique()"
   ]
  },
  {
   "cell_type": "code",
   "execution_count": null,
   "metadata": {},
   "outputs": [],
   "source": [
    "df_imdb_final['genre3'].unique()"
   ]
  },
  {
   "cell_type": "code",
   "execution_count": 94,
   "metadata": {},
   "outputs": [],
   "source": [
    "pd.options.mode.copy_on_write = True"
   ]
  },
  {
   "cell_type": "code",
   "execution_count": 95,
   "metadata": {},
   "outputs": [],
   "source": [
    "df_imdb_final.replace({None : np.nan}, inplace=True)"
   ]
  },
  {
   "cell_type": "code",
   "execution_count": null,
   "metadata": {},
   "outputs": [],
   "source": [
    "df_imdb_final[df_imdb_final['genre'].isnull()]"
   ]
  },
  {
   "cell_type": "markdown",
   "metadata": {},
   "source": [
    "### Votes"
   ]
  },
  {
   "cell_type": "code",
   "execution_count": null,
   "metadata": {},
   "outputs": [],
   "source": [
    "df_imdb_final[df_imdb_final['num_votes'] <= 5]"
   ]
  },
  {
   "cell_type": "code",
   "execution_count": null,
   "metadata": {},
   "outputs": [],
   "source": [
    "df_imdb_final.columns"
   ]
  },
  {
   "cell_type": "code",
   "execution_count": 99,
   "metadata": {},
   "outputs": [],
   "source": [
    "df_imdb_final.drop(columns='title_type', inplace=True)"
   ]
  },
  {
   "cell_type": "code",
   "execution_count": 100,
   "metadata": {},
   "outputs": [],
   "source": [
    "df_imdb_final = df_imdb_final[['tconst', 'primary_title', 'original_title', 'year', 'runtime', 'num_votes', 'average_rating', 'genres_count', 'genre', 'genre2', 'genre3', 'acting', 'acting2', 'acting3', 'acting4', 'acting5', \n",
    "              'directors_count', 'director_name', 'director2_name', 'director3_name', 'writers_count', 'writer_name', 'writer2_name', 'writer3_name', 'is_adult']] "
   ]
  },
  {
   "cell_type": "code",
   "execution_count": null,
   "metadata": {},
   "outputs": [],
   "source": [
    "df_imdb_final"
   ]
  },
  {
   "cell_type": "code",
   "execution_count": null,
   "metadata": {},
   "outputs": [],
   "source": [
    "display(df_admissions_EU_clean['title'].nunique())\n",
    "display(df_admissions_NA_clean.shape)"
   ]
  },
  {
   "cell_type": "code",
   "execution_count": null,
   "metadata": {},
   "outputs": [],
   "source": [
    "df_admissions_NA_clean['distributor'].nunique()"
   ]
  },
  {
   "cell_type": "markdown",
   "metadata": {},
   "source": [
    "### Handling title dublicates after merging\n",
    "- left merged IMDB with EU & NA on 'title' and 'year'\n",
    "- new df had 4 additional rows coming from InStAnCeS(?) in which in EU or NA title and year doubled for different movies (Paparazzi (FR & IT)) \n",
    "- additionally 168 duplicates looking at IMDB movies that had box office matches but the same title in the same year\n",
    "- next step: checking duplicates by hand and dropping unwanted matches"
   ]
  },
  {
   "cell_type": "code",
   "execution_count": null,
   "metadata": {},
   "outputs": [],
   "source": [
    "df_imdb_final[df_imdb_final[['primary_title', 'year']].duplicated(keep=False)].sort_values(by='primary_title')"
   ]
  },
  {
   "cell_type": "markdown",
   "metadata": {},
   "source": [
    "### Changing years to fit NA/EU data"
   ]
  },
  {
   "cell_type": "code",
   "execution_count": 105,
   "metadata": {},
   "outputs": [],
   "source": [
    "df_imdb_final.loc[df_imdb_final['tconst'] == 'tt4776998', 'year'] = 2017"
   ]
  },
  {
   "cell_type": "code",
   "execution_count": null,
   "metadata": {},
   "outputs": [],
   "source": [
    "df_imdb_final.loc[df_imdb_final['tconst'] == 'tt4776998', 'year']"
   ]
  },
  {
   "cell_type": "code",
   "execution_count": 107,
   "metadata": {},
   "outputs": [],
   "source": [
    "df_admissions_NA_clean['release_year'] = df_admissions_NA_clean['release_date'].dt.year\n",
    "duplicates = df_imdb_final.merge(df_admissions_NA_clean, how='left', left_on=['primary_title', 'year'], right_on=['title', 'release_year']).merge(df_admissions_EU_clean, how='left', left_on=['primary_title', 'year'], right_on=['title', 'year'])"
   ]
  },
  {
   "cell_type": "code",
   "execution_count": null,
   "metadata": {},
   "outputs": [],
   "source": [
    "duplicates.shape"
   ]
  },
  {
   "cell_type": "code",
   "execution_count": 109,
   "metadata": {},
   "outputs": [],
   "source": [
    "mask = ((~duplicates['tickets_sold_x'].isnull()) | (~duplicates['tickets_sold_y'].isnull())) & (duplicates[['primary_title', 'year']].duplicated(keep=False))"
   ]
  },
  {
   "cell_type": "markdown",
   "metadata": {},
   "source": [
    "### Dropping duplicated movies"
   ]
  },
  {
   "cell_type": "code",
   "execution_count": 110,
   "metadata": {},
   "outputs": [],
   "source": [
    "films_to_drop = ['tt7596520', 'tt6869948', 'tt3114786', 'tt10381532', 'tt15302566', 'tt8878922', 'tt2159988', 'tt3833746', 'tt7232438', 'tt4192918', 'tt6353886',\n",
    "                 'tt0989719', 'tt0384344', 'tt5317732', 'tt27834173', 'tt11719504', 'tt0356736', 'tt0462326', 'tt7535780', 'tt4982356', 'tt4155318', 'tt4935746',\n",
    "                 'tt2943946', 'tt10530176', 'tt1472211', 'tt0326506', 'tt1825978', 'tt3660078', 'tt5211596', 'tt5738152', 'tt7785302', 'tt2660118', 'tt3315656',\n",
    "                 'tt6147768', 'tt3604256', 'tt9278312', 'tt0211634', 'tt15751968', 'tt22982202', 'tt21850902', 'tt8372368', 'tt7762424', 'tt1130090', 'tt2514592',\n",
    "                 'tt13830296', 'tt29979669', 'tt1826727', 'tt6184774', 'tt1537401', 'tt15342012', 'tt21158466', 'tt0465552', 'tt2558484', 'tt5884960', 'tt3985956',\n",
    "                 'tt0238251', 'tt2230954', 'tt21379234', 'tt1613084', 'tt20877624', 'tt22037488', 'tt9204088', 'tt19880966', 'tt5897002', 'tt1327709', 'tt7002100',\n",
    "                 'tt21254598', 'tt5089556', 'tt0372361', 'tt1586713', 'tt11006500', 'tt4317898', 'tt1945037', 'tt14661820', 'tt8706138', 'tt14220888', 'tt26342791',\n",
    "                 'tt0160395', 'tt10192566', 'tt10332854', 'tt2049386', 'tt26505281', 'tt19512922', 'tt2447982', 'tt15119398']"
   ]
  },
  {
   "cell_type": "code",
   "execution_count": null,
   "metadata": {},
   "outputs": [],
   "source": [
    "duplicates[duplicates['tconst'].isin(films_to_drop)]"
   ]
  },
  {
   "cell_type": "markdown",
   "metadata": {},
   "source": [
    "### Dropping list of duplicates from both Dataframes"
   ]
  },
  {
   "cell_type": "code",
   "execution_count": 112,
   "metadata": {},
   "outputs": [],
   "source": [
    "duplicates.drop(duplicates[duplicates['tconst'].isin(films_to_drop)].index, inplace=True)"
   ]
  },
  {
   "cell_type": "code",
   "execution_count": 113,
   "metadata": {},
   "outputs": [],
   "source": [
    "df_imdb_final.drop(df_imdb_final[df_imdb_final['tconst'].isin(films_to_drop)].index, inplace=True)"
   ]
  },
  {
   "cell_type": "markdown",
   "metadata": {},
   "source": [
    "### Dropping the 2 remaning duplicated movies"
   ]
  },
  {
   "cell_type": "code",
   "execution_count": null,
   "metadata": {},
   "outputs": [],
   "source": [
    "df_imdb_final[df_imdb_final['primary_title'] == 'Paparazzi']"
   ]
  },
  {
   "cell_type": "code",
   "execution_count": 115,
   "metadata": {},
   "outputs": [],
   "source": [
    "df_imdb_final.loc[df_imdb_final['tconst'] == 'tt0133314', 'primary_title'] = 'Paparazzi (FR)'\n",
    "df_imdb_final.loc[df_imdb_final['tconst'] == 'tt0174105', 'primary_title'] = 'Paparazzi (IT)'"
   ]
  },
  {
   "cell_type": "code",
   "execution_count": null,
   "metadata": {},
   "outputs": [],
   "source": [
    "df_imdb_final.loc[df_imdb_final['tconst'] == 'tt0133314', 'primary_title']"
   ]
  },
  {
   "cell_type": "code",
   "execution_count": null,
   "metadata": {},
   "outputs": [],
   "source": [
    "df_imdb_final[df_imdb_final['primary_title'] == 'Beast']"
   ]
  },
  {
   "cell_type": "code",
   "execution_count": 118,
   "metadata": {},
   "outputs": [],
   "source": [
    "df_imdb_final.loc[df_imdb_final['tconst'] == 'tt11301946', 'primary_title'] = 'Beast (IN)'\n",
    "df_imdb_final.loc[df_imdb_final['tconst'] == 'tt13223398', 'primary_title'] = 'Beast (US)'"
   ]
  },
  {
   "cell_type": "code",
   "execution_count": null,
   "metadata": {},
   "outputs": [],
   "source": [
    "df_admissions_EU_clean[df_admissions_EU_clean['title'] == 'Paparazzi']"
   ]
  },
  {
   "cell_type": "code",
   "execution_count": 120,
   "metadata": {},
   "outputs": [],
   "source": [
    "df_admissions_EU_clean.loc[df_admissions_EU_clean['title'] == 'Paparazzi', 'title'] = ['Paparazzi (FR)', 'Paparazzi (IT)']"
   ]
  },
  {
   "cell_type": "code",
   "execution_count": null,
   "metadata": {},
   "outputs": [],
   "source": [
    "df_admissions_NA_clean[df_admissions_NA_clean['title'] == 'Paparazzi']"
   ]
  },
  {
   "cell_type": "code",
   "execution_count": null,
   "metadata": {},
   "outputs": [],
   "source": [
    "df_admissions_EU_clean[df_admissions_EU_clean['title'] == 'Beast']"
   ]
  },
  {
   "cell_type": "code",
   "execution_count": 123,
   "metadata": {},
   "outputs": [],
   "source": [
    "df_admissions_EU_clean.loc[df_admissions_EU_clean['title'] == 'Beast', 'title'] = 'Beast (US)'"
   ]
  },
  {
   "cell_type": "code",
   "execution_count": null,
   "metadata": {},
   "outputs": [],
   "source": [
    "df_admissions_NA_clean[df_admissions_NA_clean['title'] == 'Beast']"
   ]
  },
  {
   "cell_type": "code",
   "execution_count": 125,
   "metadata": {},
   "outputs": [],
   "source": [
    "df_admissions_NA_clean.loc[df_admissions_NA_clean['title'] == 'Beast', 'title'] = ['Beast (IN)', 'Beast (US)']"
   ]
  },
  {
   "cell_type": "code",
   "execution_count": null,
   "metadata": {},
   "outputs": [],
   "source": [
    "df_imdb_final[df_imdb_final['primary_title'] == 'The Visit']"
   ]
  },
  {
   "cell_type": "code",
   "execution_count": null,
   "metadata": {},
   "outputs": [],
   "source": [
    "duplicates[duplicates['primary_title'] == 'The Visit']"
   ]
  },
  {
   "cell_type": "code",
   "execution_count": 128,
   "metadata": {},
   "outputs": [],
   "source": [
    "df_no_data_movie = df_admissions_EU_clean.merge(df_imdb_final, how='left', left_on=['title', 'year'], right_on=['original_title', 'year'])"
   ]
  },
  {
   "cell_type": "code",
   "execution_count": null,
   "metadata": {},
   "outputs": [],
   "source": [
    "df_no_data_movie[df_no_data_movie['tconst'].isnull()]"
   ]
  },
  {
   "cell_type": "code",
   "execution_count": null,
   "metadata": {},
   "outputs": [],
   "source": [
    "df_imdb_final[df_imdb_final['tconst'] == 'tt1640202']"
   ]
  },
  {
   "cell_type": "markdown",
   "metadata": {},
   "source": [
    "### Uploading to SQL"
   ]
  },
  {
   "cell_type": "code",
   "execution_count": 131,
   "metadata": {},
   "outputs": [],
   "source": [
    "from sql_functions import get_engine, schema\n",
    "import psycopg2\n",
    "engine = get_engine()\n",
    "schema = schema()\n",
    "table_name = 'movie_data_EU'\n",
    "table_name2 = 'movie_data_NA'\n",
    "table_name3 = 'IMDB_data'"
   ]
  },
  {
   "cell_type": "code",
   "execution_count": null,
   "metadata": {},
   "outputs": [],
   "source": [
    "# Write records stored in a dataframe to SQL database\n",
    "if engine!=None:\n",
    "    try:\n",
    "        df_admissions_EU_clean.to_sql(table_name, # Name of SQL table\n",
    "                        con=engine, # Engine or connection\n",
    "                        if_exists='replace', # Drop the table before inserting new values \n",
    "                        schema=schema, # your class schema\n",
    "                        index=False, # Write DataFrame index as a column\n",
    "                        chunksize=5000, # Specify the number of rows in each batch to be written at a time\n",
    "                        method='multi') # Pass multiple values in a single INSERT clause\n",
    "        print(f\"The {table_name} table was imported successfully.\")\n",
    "    # Error handling\n",
    "    except (Exception, psycopg2.DatabaseError) as error:\n",
    "        print(error)\n",
    "        engine = None\n",
    "\n",
    "if engine!=None:\n",
    "    try:\n",
    "        df_admissions_NA_clean.to_sql(table_name2, # Name of SQL table\n",
    "                        con=engine, # Engine or connection\n",
    "                        if_exists='replace', # Drop the table before inserting new values \n",
    "                        schema=schema, # your class schema\n",
    "                        index=False, # Write DataFrame index as a column\n",
    "                        chunksize=5000, # Specify the number of rows in each batch to be written at a time\n",
    "                        method='multi') # Pass multiple values in a single INSERT clause\n",
    "        print(f\"The {table_name2} table was imported successfully.\")\n",
    "    # Error handling\n",
    "    except (Exception, psycopg2.DatabaseError) as error:\n",
    "        print(error)\n",
    "        engine = None\n",
    "\n",
    "if engine!=None:\n",
    "    try:\n",
    "        df_imdb_final.to_sql(table_name3, # Name of SQL table\n",
    "                        con=engine, # Engine or connection\n",
    "                        if_exists='replace', # Drop the table before inserting new values \n",
    "                        schema=schema, # your class schema\n",
    "                        index=False, # Write DataFrame index as a column\n",
    "                        chunksize=5000, # Specify the number of rows in each batch to be written at a time\n",
    "                        method='multi') # Pass multiple values in a single INSERT clause\n",
    "        print(f\"The {table_name3} table was imported successfully.\")\n",
    "    # Error handling\n",
    "    except (Exception, psycopg2.DatabaseError) as error:\n",
    "        print(error)\n",
    "        engine = None"
   ]
  }
 ],
 "metadata": {
  "kernelspec": {
   "display_name": "nf_sql",
   "language": "python",
   "name": "python3"
  },
  "language_info": {
   "codemirror_mode": {
    "name": "ipython",
    "version": 3
   },
   "file_extension": ".py",
   "mimetype": "text/x-python",
   "name": "python",
   "nbconvert_exporter": "python",
   "pygments_lexer": "ipython3",
   "version": "3.9.19"
  }
 },
 "nbformat": 4,
 "nbformat_minor": 2
}

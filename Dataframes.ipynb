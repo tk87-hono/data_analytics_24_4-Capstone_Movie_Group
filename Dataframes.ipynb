{
 "cells": [
  {
   "cell_type": "code",
   "execution_count": 36,
   "metadata": {},
   "outputs": [],
   "source": [
    "import pandas as pd\n",
    "import numpy as np"
   ]
  },
  {
   "cell_type": "code",
   "execution_count": 28,
   "metadata": {},
   "outputs": [],
   "source": [
    "df_admissions = pd.read_csv('./data/visitors_per_year_and_movie.csv')"
   ]
  },
  {
   "cell_type": "code",
   "execution_count": 29,
   "metadata": {},
   "outputs": [],
   "source": [
    "# df_admissions['Directors'].fillna('Unknown', inplace=True)"
   ]
  },
  {
   "cell_type": "code",
   "execution_count": 30,
   "metadata": {},
   "outputs": [
    {
     "data": {
      "text/plain": [
       "Unnamed: 0           0\n",
       "original title       0\n",
       "producing country    0\n",
       "production year      0\n",
       "directors            0\n",
       "visitors             0\n",
       "dtype: int64"
      ]
     },
     "execution_count": 30,
     "metadata": {},
     "output_type": "execute_result"
    }
   ],
   "source": [
    "df_admissions.isnull().sum()"
   ]
  },
  {
   "cell_type": "code",
   "execution_count": 31,
   "metadata": {},
   "outputs": [],
   "source": [
    "# Checked if values of the columns are identical\n",
    "# (df_admissions['Admissions null-null'].str.replace(' ', '').astype(int) - df_admissions['Total EU27+GB since 1996'].str.replace(' ', '').astype(int)).sum()"
   ]
  },
  {
   "cell_type": "code",
   "execution_count": 32,
   "metadata": {},
   "outputs": [],
   "source": [
    "# df_admissions_clean = df_admissions.drop('Total EU27+GB since 1996', axis=1)\n",
    "df_admissions.rename(columns={'Admissions null-null': 'visitors'}, inplace=True)\n",
    "df_admissions.columns = df_admissions.columns.str.lower()\n",
    "# df_admissions['visitors'] = df_admissions['visitors'].str.replace(' ', '').astype('int64')"
   ]
  },
  {
   "cell_type": "code",
   "execution_count": 33,
   "metadata": {},
   "outputs": [
    {
     "name": "stdout",
     "output_type": "stream",
     "text": [
      "<class 'pandas.core.frame.DataFrame'>\n",
      "RangeIndex: 13669 entries, 0 to 13668\n",
      "Data columns (total 6 columns):\n",
      " #   Column             Non-Null Count  Dtype \n",
      "---  ------             --------------  ----- \n",
      " 0   unnamed: 0         13669 non-null  int64 \n",
      " 1   original title     13669 non-null  object\n",
      " 2   producing country  13669 non-null  object\n",
      " 3   production year    13669 non-null  int64 \n",
      " 4   directors          13669 non-null  object\n",
      " 5   visitors           13669 non-null  int64 \n",
      "dtypes: int64(3), object(3)\n",
      "memory usage: 640.9+ KB\n"
     ]
    }
   ],
   "source": [
    "df_admissions.info()"
   ]
  },
  {
   "cell_type": "code",
   "execution_count": 34,
   "metadata": {},
   "outputs": [],
   "source": [
    "# df_admissions_clean.to_csv('./data/visitors_per_year_and_movie.csv', sep=',')"
   ]
  },
  {
   "cell_type": "code",
   "execution_count": 35,
   "metadata": {},
   "outputs": [],
   "source": [
    "df_movie_list_years = pd.read_csv('./Data/movie_list_years.csv')\n",
    "df_akas = pd.read_csv('./Data/title.akas.csv')\n",
    "df_basics = pd.read_csv('./Data/title.basics.csv')\n",
    "df_crew = pd.read_csv('./Data/title.crew.csv')\n",
    "df_principals = pd.read_csv('./Data/title.principals.csv')\n",
    "df_ratings = pd.read_csv('./Data/title.ratings.csv')\n",
    "df_names = pd.read_csv('./Data/name.basics.csv')"
   ]
  },
  {
   "cell_type": "code",
   "execution_count": 38,
   "metadata": {},
   "outputs": [
    {
     "data": {
      "text/html": [
       "<div>\n",
       "<style scoped>\n",
       "    .dataframe tbody tr th:only-of-type {\n",
       "        vertical-align: middle;\n",
       "    }\n",
       "\n",
       "    .dataframe tbody tr th {\n",
       "        vertical-align: top;\n",
       "    }\n",
       "\n",
       "    .dataframe thead th {\n",
       "        text-align: right;\n",
       "    }\n",
       "</style>\n",
       "<table border=\"1\" class=\"dataframe\">\n",
       "  <thead>\n",
       "    <tr style=\"text-align: right;\">\n",
       "      <th></th>\n",
       "      <th>nconst</th>\n",
       "      <th>primaryName</th>\n",
       "      <th>birthYear</th>\n",
       "      <th>deathYear</th>\n",
       "      <th>primaryProfession</th>\n",
       "      <th>knownForTitles</th>\n",
       "    </tr>\n",
       "  </thead>\n",
       "  <tbody>\n",
       "    <tr>\n",
       "      <th>0</th>\n",
       "      <td>nm0000001</td>\n",
       "      <td>Fred Astaire</td>\n",
       "      <td>1899</td>\n",
       "      <td>1987</td>\n",
       "      <td>actor,miscellaneous,producer</td>\n",
       "      <td>tt0072308,tt0050419,tt0053137,tt0027125</td>\n",
       "    </tr>\n",
       "    <tr>\n",
       "      <th>1</th>\n",
       "      <td>nm0000002</td>\n",
       "      <td>Lauren Bacall</td>\n",
       "      <td>1924</td>\n",
       "      <td>2014</td>\n",
       "      <td>actress,soundtrack,archive_footage</td>\n",
       "      <td>tt0037382,tt0075213,tt0117057,tt0038355</td>\n",
       "    </tr>\n",
       "    <tr>\n",
       "      <th>2</th>\n",
       "      <td>nm0000003</td>\n",
       "      <td>Brigitte Bardot</td>\n",
       "      <td>1934</td>\n",
       "      <td>NaN</td>\n",
       "      <td>actress,music_department,producer</td>\n",
       "      <td>tt0057345,tt0049189,tt0056404,tt0054452</td>\n",
       "    </tr>\n",
       "    <tr>\n",
       "      <th>3</th>\n",
       "      <td>nm0000004</td>\n",
       "      <td>John Belushi</td>\n",
       "      <td>1949</td>\n",
       "      <td>1982</td>\n",
       "      <td>actor,writer,music_department</td>\n",
       "      <td>tt0072562,tt0077975,tt0080455,tt0078723</td>\n",
       "    </tr>\n",
       "    <tr>\n",
       "      <th>4</th>\n",
       "      <td>nm0000005</td>\n",
       "      <td>Ingmar Bergman</td>\n",
       "      <td>1918</td>\n",
       "      <td>2007</td>\n",
       "      <td>writer,director,actor</td>\n",
       "      <td>tt0050986,tt0083922,tt0050976,tt0069467</td>\n",
       "    </tr>\n",
       "    <tr>\n",
       "      <th>...</th>\n",
       "      <td>...</td>\n",
       "      <td>...</td>\n",
       "      <td>...</td>\n",
       "      <td>...</td>\n",
       "      <td>...</td>\n",
       "      <td>...</td>\n",
       "    </tr>\n",
       "    <tr>\n",
       "      <th>13779205</th>\n",
       "      <td>nm9993714</td>\n",
       "      <td>Romeo del Rosario</td>\n",
       "      <td>NaN</td>\n",
       "      <td>NaN</td>\n",
       "      <td>animation_department,art_department</td>\n",
       "      <td>tt11657662,tt14069590,tt2455546</td>\n",
       "    </tr>\n",
       "    <tr>\n",
       "      <th>13779206</th>\n",
       "      <td>nm9993716</td>\n",
       "      <td>Essias Loberg</td>\n",
       "      <td>NaN</td>\n",
       "      <td>NaN</td>\n",
       "      <td>NaN</td>\n",
       "      <td>NaN</td>\n",
       "    </tr>\n",
       "    <tr>\n",
       "      <th>13779207</th>\n",
       "      <td>nm9993717</td>\n",
       "      <td>Harikrishnan Rajan</td>\n",
       "      <td>NaN</td>\n",
       "      <td>NaN</td>\n",
       "      <td>cinematographer</td>\n",
       "      <td>tt8736744</td>\n",
       "    </tr>\n",
       "    <tr>\n",
       "      <th>13779208</th>\n",
       "      <td>nm9993718</td>\n",
       "      <td>Aayush Nair</td>\n",
       "      <td>NaN</td>\n",
       "      <td>NaN</td>\n",
       "      <td>cinematographer</td>\n",
       "      <td>tt8736744</td>\n",
       "    </tr>\n",
       "    <tr>\n",
       "      <th>13779209</th>\n",
       "      <td>nm9993719</td>\n",
       "      <td>Andre Hill</td>\n",
       "      <td>NaN</td>\n",
       "      <td>NaN</td>\n",
       "      <td>writer</td>\n",
       "      <td>NaN</td>\n",
       "    </tr>\n",
       "  </tbody>\n",
       "</table>\n",
       "<p>13779210 rows × 6 columns</p>\n",
       "</div>"
      ],
      "text/plain": [
       "             nconst         primaryName birthYear deathYear  \\\n",
       "0         nm0000001        Fred Astaire      1899      1987   \n",
       "1         nm0000002       Lauren Bacall      1924      2014   \n",
       "2         nm0000003     Brigitte Bardot      1934       NaN   \n",
       "3         nm0000004        John Belushi      1949      1982   \n",
       "4         nm0000005      Ingmar Bergman      1918      2007   \n",
       "...             ...                 ...       ...       ...   \n",
       "13779205  nm9993714   Romeo del Rosario       NaN       NaN   \n",
       "13779206  nm9993716       Essias Loberg       NaN       NaN   \n",
       "13779207  nm9993717  Harikrishnan Rajan       NaN       NaN   \n",
       "13779208  nm9993718         Aayush Nair       NaN       NaN   \n",
       "13779209  nm9993719          Andre Hill       NaN       NaN   \n",
       "\n",
       "                            primaryProfession  \\\n",
       "0                actor,miscellaneous,producer   \n",
       "1          actress,soundtrack,archive_footage   \n",
       "2           actress,music_department,producer   \n",
       "3               actor,writer,music_department   \n",
       "4                       writer,director,actor   \n",
       "...                                       ...   \n",
       "13779205  animation_department,art_department   \n",
       "13779206                                  NaN   \n",
       "13779207                      cinematographer   \n",
       "13779208                      cinematographer   \n",
       "13779209                               writer   \n",
       "\n",
       "                                   knownForTitles  \n",
       "0         tt0072308,tt0050419,tt0053137,tt0027125  \n",
       "1         tt0037382,tt0075213,tt0117057,tt0038355  \n",
       "2         tt0057345,tt0049189,tt0056404,tt0054452  \n",
       "3         tt0072562,tt0077975,tt0080455,tt0078723  \n",
       "4         tt0050986,tt0083922,tt0050976,tt0069467  \n",
       "...                                           ...  \n",
       "13779205          tt11657662,tt14069590,tt2455546  \n",
       "13779206                                      NaN  \n",
       "13779207                                tt8736744  \n",
       "13779208                                tt8736744  \n",
       "13779209                                      NaN  \n",
       "\n",
       "[13779210 rows x 6 columns]"
      ]
     },
     "execution_count": 38,
     "metadata": {},
     "output_type": "execute_result"
    }
   ],
   "source": [
    "df_movie_list_years.replace('\\\\N', np.nan)\n",
    "df_akas.replace('\\\\N', np.nan)\n",
    "df_basics.replace('\\\\N', np.nan)\n",
    "df_crew.replace('\\\\N', np.nan)\n",
    "df_principals.replace('\\\\N', np.nan)\n",
    "df_ratings.replace('\\\\N', np.nan)\n",
    "df_names.replace('\\\\N', np.nan)"
   ]
  },
  {
   "cell_type": "code",
   "execution_count": 44,
   "metadata": {},
   "outputs": [],
   "source": [
    "df_akas.rename(columns={'titleId' : 'tconst'}, inplace=True)"
   ]
  }
 ],
 "metadata": {
  "kernelspec": {
   "display_name": "nf_sql",
   "language": "python",
   "name": "python3"
  },
  "language_info": {
   "codemirror_mode": {
    "name": "ipython",
    "version": 3
   },
   "file_extension": ".py",
   "mimetype": "text/x-python",
   "name": "python",
   "nbconvert_exporter": "python",
   "pygments_lexer": "ipython3",
   "version": "3.9.19"
  }
 },
 "nbformat": 4,
 "nbformat_minor": 2
}

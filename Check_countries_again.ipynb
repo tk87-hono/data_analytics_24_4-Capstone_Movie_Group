{
 "cells": [
  {
   "cell_type": "markdown",
   "metadata": {},
   "source": [
    "# Import"
   ]
  },
  {
   "cell_type": "code",
   "execution_count": 1,
   "metadata": {},
   "outputs": [],
   "source": [
    "# import all packages\n",
    "import pandas as pd\n",
    "import numpy as np\n",
    "import psycopg2 as psycopg2\n",
    "import sql_functions as sqlf\n",
    "import string as string"
   ]
  },
  {
   "cell_type": "code",
   "execution_count": 16,
   "metadata": {},
   "outputs": [],
   "source": [
    "# pd.set_option(\"display.max.rows\", 150)"
   ]
  },
  {
   "cell_type": "code",
   "execution_count": 3,
   "metadata": {},
   "outputs": [],
   "source": [
    "schema = \"capstone_24_4_group1\""
   ]
  },
  {
   "cell_type": "code",
   "execution_count": 4,
   "metadata": {},
   "outputs": [],
   "source": [
    "countries_query = f'''   SELECT *\n",
    "                    FROM {schema}.\"countries\"\n",
    "                    '''\n",
    "bx_infl_query = f'''   SELECT *\n",
    "                    FROM {schema}.\"box_office_data_inflated\"\n",
    "                    '''"
   ]
  },
  {
   "cell_type": "code",
   "execution_count": 5,
   "metadata": {},
   "outputs": [],
   "source": [
    "countries_df = sqlf.get_dataframe(countries_query)\n",
    "bx_infl_df = sqlf.get_dataframe(bx_infl_query)"
   ]
  },
  {
   "cell_type": "code",
   "execution_count": null,
   "metadata": {},
   "outputs": [],
   "source": [
    "display(countries_df.head(5))\n",
    "display(bx_infl_df.head(5))"
   ]
  },
  {
   "cell_type": "code",
   "execution_count": null,
   "metadata": {},
   "outputs": [],
   "source": [
    "display(pd.DataFrame(countries_df[\"long_name\"].unique()))"
   ]
  },
  {
   "cell_type": "code",
   "execution_count": null,
   "metadata": {},
   "outputs": [],
   "source": [
    "display(pd.DataFrame(bx_infl_df[\"country\"].unique()))"
   ]
  },
  {
   "cell_type": "code",
   "execution_count": 9,
   "metadata": {},
   "outputs": [],
   "source": [
    "bx_csv = pd.read_csv(\"Data/bx_countries.csv\", sep=\";\")"
   ]
  },
  {
   "cell_type": "code",
   "execution_count": null,
   "metadata": {},
   "outputs": [],
   "source": [
    "bx_csv[\"long_name\"].unique()"
   ]
  },
  {
   "cell_type": "code",
   "execution_count": 11,
   "metadata": {},
   "outputs": [],
   "source": [
    "bx_infl_new = bx_infl_df.merge(bx_csv, how= \"left\", left_on=\"country\", right_on=\"bx_country\")"
   ]
  },
  {
   "cell_type": "code",
   "execution_count": 12,
   "metadata": {},
   "outputs": [],
   "source": [
    "bx_infl_new.drop(columns=['country', 'bx_country'], inplace=True)"
   ]
  },
  {
   "cell_type": "code",
   "execution_count": 13,
   "metadata": {},
   "outputs": [],
   "source": [
    "bx_infl_new = bx_infl_new[[\"tconst\",\"long_name\", \"values\", \"inflated_values\"]]"
   ]
  },
  {
   "cell_type": "code",
   "execution_count": 14,
   "metadata": {},
   "outputs": [],
   "source": [
    "bx_infl_new = bx_infl_new.rename(columns={'long_name': 'country'})"
   ]
  },
  {
   "cell_type": "code",
   "execution_count": null,
   "metadata": {},
   "outputs": [],
   "source": [
    "pd.DataFrame(bx_infl_new[\"country\"].unique())"
   ]
  },
  {
   "cell_type": "markdown",
   "metadata": {},
   "source": [
    "# Upload"
   ]
  },
  {
   "cell_type": "code",
   "execution_count": 18,
   "metadata": {},
   "outputs": [
    {
     "data": {
      "text/plain": [
       "'capstone_24_4_group1'"
      ]
     },
     "execution_count": 18,
     "metadata": {},
     "output_type": "execute_result"
    }
   ],
   "source": [
    "schema"
   ]
  },
  {
   "cell_type": "code",
   "execution_count": 19,
   "metadata": {},
   "outputs": [],
   "source": [
    "dataframes = {\n",
    "    \"box_office_data_inflated\":bx_infl_new,\n",
    "}"
   ]
  },
  {
   "cell_type": "code",
   "execution_count": 20,
   "metadata": {},
   "outputs": [
    {
     "name": "stdout",
     "output_type": "stream",
     "text": [
      "The box_office_data_inflated table was imported successfully.\n"
     ]
    }
   ],
   "source": [
    "engine = sqlf.get_engine()\n",
    "engine\n",
    "\n",
    "# Write records stored in a dataframe to SQL database\n",
    "if engine != None:\n",
    "    try:\n",
    "        for table_name, df in dataframes.items():\n",
    "            df.to_sql(table_name, # Name of SQL table\n",
    "                            con=engine, # Engine or connection\n",
    "                            if_exists='replace', # Drop the table before inserting new values \n",
    "                            schema=schema, # your class schema\n",
    "                            index=False, # Write DataFrame index as a column\n",
    "                            chunksize=5000, # Specify the number of rows in each batch to be written at a time\n",
    "                            method='multi') # Pass multiple values in a single INSERT clause\n",
    "            print(f\"The {table_name} table was imported successfully.\")\n",
    "    # Error handling\n",
    "    except (Exception, psycopg2.DatabaseError) as error:\n",
    "        print(error)\n",
    "        engine = None\n",
    "else:\n",
    "    print(\"nope\") "
   ]
  }
 ],
 "metadata": {
  "kernelspec": {
   "display_name": "nf_capstone",
   "language": "python",
   "name": "python3"
  },
  "language_info": {
   "codemirror_mode": {
    "name": "ipython",
    "version": 3
   },
   "file_extension": ".py",
   "mimetype": "text/x-python",
   "name": "python",
   "nbconvert_exporter": "python",
   "pygments_lexer": "ipython3",
   "version": "3.9.19"
  }
 },
 "nbformat": 4,
 "nbformat_minor": 2
}

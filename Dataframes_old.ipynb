{
 "cells": [
  {
   "cell_type": "code",
   "execution_count": 1,
   "metadata": {},
   "outputs": [],
   "source": [
    "import pandas as pd\n",
    "import numpy as np"
   ]
  },
  {
   "cell_type": "markdown",
   "metadata": {},
   "source": [
    "### Ticket sales in Europe"
   ]
  },
  {
   "cell_type": "code",
   "execution_count": 2,
   "metadata": {},
   "outputs": [],
   "source": [
    "df_admissions_EU = pd.read_csv('./data/Movie_numbers_1996-2023_EU.csv')"
   ]
  },
  {
   "cell_type": "code",
   "execution_count": null,
   "metadata": {},
   "outputs": [],
   "source": [
    "df_admissions_EU.isnull().sum()"
   ]
  },
  {
   "cell_type": "code",
   "execution_count": null,
   "metadata": {},
   "outputs": [],
   "source": [
    "df_admissions_EU.info()"
   ]
  },
  {
   "cell_type": "code",
   "execution_count": null,
   "metadata": {},
   "outputs": [],
   "source": [
    "df_admissions_EU.head(20)"
   ]
  },
  {
   "cell_type": "code",
   "execution_count": 7,
   "metadata": {},
   "outputs": [],
   "source": [
    "df_admissions_EU.rename(columns={'Admissions 1996-1996' : 'tickets_sold',\n",
    "                                 'Total EU27+GB since 1996' : 'tickets_sold_since_1996',\n",
    "                                 'Original title' : 'title',\n",
    "                                 'Production year' : 'year'}, inplace=True)\n",
    "df_admissions_EU.columns = df_admissions_EU.columns.str.lower().str.replace(' ', '_')\n",
    "df_admissions_EU.drop(columns=['directors'], inplace=True)"
   ]
  },
  {
   "cell_type": "code",
   "execution_count": 8,
   "metadata": {},
   "outputs": [],
   "source": [
    "df_admissions_EU['tickets_sold'] = df_admissions_EU['tickets_sold'].str.replace(' ', '')\n",
    "df_admissions_EU['tickets_sold_since_1996'] = df_admissions_EU['tickets_sold_since_1996'].str.replace(' ', '')"
   ]
  },
  {
   "cell_type": "code",
   "execution_count": 9,
   "metadata": {},
   "outputs": [],
   "source": [
    "df_admissions_EU['tickets_sold'] = pd.to_numeric(df_admissions_EU['tickets_sold'])\n",
    "df_admissions_EU['tickets_sold_since_1996'] = pd.to_numeric(df_admissions_EU['tickets_sold_since_1996'])"
   ]
  },
  {
   "cell_type": "code",
   "execution_count": null,
   "metadata": {},
   "outputs": [],
   "source": [
    "df_admissions_EU.shape"
   ]
  },
  {
   "cell_type": "code",
   "execution_count": null,
   "metadata": {},
   "outputs": [],
   "source": [
    "df_admissions_EU['title'].nunique()"
   ]
  },
  {
   "cell_type": "code",
   "execution_count": null,
   "metadata": {},
   "outputs": [],
   "source": [
    "df_admissions_EU_clean = df_admissions_EU.groupby(['title', 'producing_country', 'year', 'tickets_sold_since_1996']).sum().reset_index()\n",
    "df_admissions_EU_clean"
   ]
  },
  {
   "cell_type": "code",
   "execution_count": null,
   "metadata": {},
   "outputs": [],
   "source": [
    "display(df_admissions_EU_clean[df_admissions_EU_clean['title'] == 'Avatar'])\n",
    "display(df_admissions_EU[df_admissions_EU['title'] == 'Avatar'])"
   ]
  },
  {
   "cell_type": "code",
   "execution_count": null,
   "metadata": {},
   "outputs": [],
   "source": [
    "df_admissions_EU_clean.head(20)"
   ]
  },
  {
   "cell_type": "markdown",
   "metadata": {},
   "source": [
    "### Ticket sales in North America\n"
   ]
  },
  {
   "cell_type": "code",
   "execution_count": null,
   "metadata": {},
   "outputs": [],
   "source": [
    "df_admissions_NA = pd.read_csv('./Data/Movie_numbers_1996-2023_USA.csv')\n",
    "df_admissions_NA.head(20)"
   ]
  },
  {
   "cell_type": "code",
   "execution_count": null,
   "metadata": {},
   "outputs": [],
   "source": [
    "df_admissions_NA.info()"
   ]
  },
  {
   "cell_type": "code",
   "execution_count": 17,
   "metadata": {},
   "outputs": [],
   "source": [
    "df_admissions_NA['Release\\nDate'] = pd.to_datetime(df_admissions_NA['Release\\nDate'])\n",
    "df_admissions_NA['Tickets Sold'] = df_admissions_NA['Tickets Sold'].str.replace(',', '')\n",
    "df_admissions_NA['Tickets Sold'] = pd.to_numeric(df_admissions_NA['Tickets Sold'])"
   ]
  },
  {
   "cell_type": "code",
   "execution_count": null,
   "metadata": {},
   "outputs": [],
   "source": [
    "df_admissions_NA['1996 Gross'] = df_admissions_NA['1996 Gross'].str.replace(',', '')\n",
    "df_admissions_NA['1996 Gross'] = df_admissions_NA['1996 Gross'].str.replace('$', '')"
   ]
  },
  {
   "cell_type": "code",
   "execution_count": 19,
   "metadata": {},
   "outputs": [],
   "source": [
    "df_admissions_NA['1996 Gross'] = pd.to_numeric(df_admissions_NA['1996 Gross'])"
   ]
  },
  {
   "cell_type": "code",
   "execution_count": null,
   "metadata": {},
   "outputs": [],
   "source": [
    "df_admissions_NA.rename(columns={'Release\\nDate' : 'release_date',\n",
    "                                 'Movie' : 'title',\n",
    "                                 '1996 Gross' : 'Gross_Sales',\n",
    "                                 'Tickets Sold' : 'tickets_sold'}, inplace=True)\n",
    "df_admissions_NA.columns = df_admissions_NA.columns.str.lower()\n",
    "df_admissions_NA.columns"
   ]
  },
  {
   "cell_type": "code",
   "execution_count": null,
   "metadata": {},
   "outputs": [],
   "source": [
    "df_admissions_NA['title'].nunique()"
   ]
  },
  {
   "cell_type": "code",
   "execution_count": null,
   "metadata": {},
   "outputs": [],
   "source": [
    "df_admissions_NA_clean = df_admissions_NA.groupby(['title', 'release_date', 'distributor']).sum().reset_index()\n",
    "df_admissions_NA_clean.drop(columns=['rank', 'year'], inplace=True)\n",
    "df_admissions_NA_clean.shape"
   ]
  },
  {
   "cell_type": "code",
   "execution_count": null,
   "metadata": {},
   "outputs": [],
   "source": [
    "display(df_admissions_NA_clean[df_admissions_NA_clean['title'] == 'Avatar'])\n",
    "display(df_admissions_NA[df_admissions_NA['title'] == 'Avatar'])"
   ]
  },
  {
   "cell_type": "code",
   "execution_count": null,
   "metadata": {},
   "outputs": [],
   "source": [
    "df_admissions_NA_clean.groupby(['title']).size().sort_values(ascending=False)"
   ]
  },
  {
   "cell_type": "code",
   "execution_count": null,
   "metadata": {},
   "outputs": [],
   "source": [
    "df_admissions_NA_clean[df_admissions_NA_clean['title'] == 'Halloween']"
   ]
  },
  {
   "cell_type": "code",
   "execution_count": null,
   "metadata": {},
   "outputs": [],
   "source": [
    "display(df_admissions_NA_clean.head())\n",
    "display(df_admissions_EU_clean.head())"
   ]
  },
  {
   "cell_type": "markdown",
   "metadata": {},
   "source": [
    "### IMDB DATA"
   ]
  },
  {
   "cell_type": "code",
   "execution_count": 27,
   "metadata": {},
   "outputs": [],
   "source": [
    "df_movie_list_years = pd.read_csv('./Data/movie_list_years.csv')\n",
    "df_akas = pd.read_csv('./Data/title.akas.csv')\n",
    "df_basics = pd.read_csv('./Data/title.basics.csv')\n",
    "df_crew = pd.read_csv('./Data/title.crew.csv')\n",
    "df_principals = pd.read_csv('./Data/title.principals.csv')\n",
    "df_ratings = pd.read_csv('./Data/title.ratings.csv')\n",
    "df_names = pd.read_csv('./Data/name.basics.csv')"
   ]
  },
  {
   "cell_type": "code",
   "execution_count": 28,
   "metadata": {},
   "outputs": [],
   "source": [
    "df_movie_list_years.replace('\\\\N', np.nan, inplace=True)\n",
    "df_akas.replace('\\\\N', np.nan, inplace=True)\n",
    "df_basics.replace('\\\\N', np.nan, inplace=True)\n",
    "df_crew.replace('\\\\N', np.nan, inplace=True)\n",
    "df_principals.replace('\\\\N', np.nan, inplace=True)\n",
    "df_ratings.replace('\\\\N', np.nan, inplace=True)\n",
    "df_names.replace('\\\\N', np.nan, inplace=True)"
   ]
  },
  {
   "cell_type": "code",
   "execution_count": null,
   "metadata": {},
   "outputs": [],
   "source": [
    "display(df_ratings.head(1))"
   ]
  },
  {
   "cell_type": "code",
   "execution_count": 30,
   "metadata": {},
   "outputs": [],
   "source": [
    "df_crew_named = df_crew.merge(df_names, how='left', left_on='directors', right_on='nconst')\n",
    "df_crew_named.drop(columns=['nconst', 'birthYear', 'deathYear', 'primaryProfession'], inplace=True)"
   ]
  },
  {
   "cell_type": "code",
   "execution_count": 31,
   "metadata": {},
   "outputs": [],
   "source": [
    "df_crew_named.rename(columns={'primaryName' : 'directors_name',\n",
    "                              'knownForTitles' : 'known_for_directing'}, inplace=True)"
   ]
  },
  {
   "cell_type": "code",
   "execution_count": null,
   "metadata": {},
   "outputs": [],
   "source": [
    "df_crew_named['writers'].str.count(',').sort_values(ascending=False)"
   ]
  },
  {
   "cell_type": "code",
   "execution_count": null,
   "metadata": {},
   "outputs": [],
   "source": [
    "df_crew_named.iloc[427635]"
   ]
  },
  {
   "cell_type": "markdown",
   "metadata": {},
   "source": [
    "### IMDB Final / Merging"
   ]
  },
  {
   "cell_type": "code",
   "execution_count": 34,
   "metadata": {},
   "outputs": [],
   "source": [
    "df_imdb_final = df_movie_list_years.merge(df_crew, how='left', on='tconst')"
   ]
  },
  {
   "cell_type": "code",
   "execution_count": null,
   "metadata": {},
   "outputs": [],
   "source": [
    "df_imdb_final.shape"
   ]
  },
  {
   "cell_type": "code",
   "execution_count": null,
   "metadata": {},
   "outputs": [],
   "source": [
    "df_imdb_final['directors'].str.count(',').nunique()"
   ]
  },
  {
   "cell_type": "code",
   "execution_count": null,
   "metadata": {},
   "outputs": [],
   "source": [
    "df_imdb_final['directors_count'] = df_imdb_final['directors'].str.count(',') + 1\n",
    "df_imdb_final['directors_count'].value_counts()/len(df_imdb_final) * 100"
   ]
  },
  {
   "cell_type": "code",
   "execution_count": 38,
   "metadata": {},
   "outputs": [],
   "source": [
    "df_imdb_final[['director', 'director2', 'director3']] = df_imdb_final['directors'].str.split(',', n=2, expand=True)\n",
    "df_imdb_final.drop(columns='directors', inplace=True)"
   ]
  },
  {
   "cell_type": "code",
   "execution_count": null,
   "metadata": {},
   "outputs": [],
   "source": [
    "df_imdb_final['writers_count'] = df_imdb_final['writers'].str.count(',') + 1\n",
    "df_imdb_final['writers_count'].value_counts()/len(df_imdb_final[df_imdb_final['writers_count'].notnull()]) * 100"
   ]
  },
  {
   "cell_type": "code",
   "execution_count": 40,
   "metadata": {},
   "outputs": [],
   "source": [
    "df_imdb_final[['writer', 'writer2', 'writer3']] = df_imdb_final['writers'].str.split(',', n=2, expand=True)\n",
    "df_imdb_final.drop(columns='writers', inplace=True)"
   ]
  },
  {
   "cell_type": "code",
   "execution_count": null,
   "metadata": {},
   "outputs": [],
   "source": [
    "df_imdb_final"
   ]
  },
  {
   "cell_type": "markdown",
   "metadata": {},
   "source": [
    "### Set option"
   ]
  },
  {
   "cell_type": "code",
   "execution_count": 123,
   "metadata": {},
   "outputs": [],
   "source": [
    "pd.set_option('display.max_columns', None)\n",
    "pd.set_option('display.max_rows', 10)"
   ]
  },
  {
   "cell_type": "code",
   "execution_count": 43,
   "metadata": {},
   "outputs": [],
   "source": [
    "df_imdb_final = df_imdb_final.merge(df_names[['nconst', 'primaryName']], how='left', left_on='director', right_on='nconst')\n",
    "df_imdb_final.drop(columns='nconst', inplace=True)\n",
    "df_imdb_final.rename(columns={'primaryName' : 'director_name'}, inplace=True)\n",
    "df_imdb_final = df_imdb_final.merge(df_names[['nconst', 'primaryName']], how='left', left_on='director2', right_on='nconst')\n",
    "df_imdb_final.drop(columns='nconst', inplace=True)\n",
    "df_imdb_final.rename(columns={'primaryName' : 'director2_name'}, inplace=True)\n",
    "df_imdb_final = df_imdb_final.merge(df_names[['nconst', 'primaryName']], how='left', left_on='director3', right_on='nconst')\n",
    "df_imdb_final.drop(columns='nconst', inplace=True)\n",
    "df_imdb_final.rename(columns={'primaryName' : 'director3_name'}, inplace=True)"
   ]
  },
  {
   "cell_type": "code",
   "execution_count": 44,
   "metadata": {},
   "outputs": [],
   "source": [
    "df_imdb_final = df_imdb_final.merge(df_names[['nconst', 'primaryName']], how='left', left_on='writer', right_on='nconst')\n",
    "df_imdb_final.drop(columns='nconst', inplace=True)\n",
    "df_imdb_final.rename(columns={'primaryName' : 'writer_name'}, inplace=True)\n",
    "df_imdb_final = df_imdb_final.merge(df_names[['nconst', 'primaryName']], how='left', left_on='writer2', right_on='nconst')\n",
    "df_imdb_final.drop(columns='nconst', inplace=True)\n",
    "df_imdb_final.rename(columns={'primaryName' : 'writer2_name'}, inplace=True)\n",
    "df_imdb_final = df_imdb_final.merge(df_names[['nconst', 'primaryName']], how='left', left_on='writer3', right_on='nconst')\n",
    "df_imdb_final.drop(columns='nconst', inplace=True)\n",
    "df_imdb_final.rename(columns={'primaryName' : 'writer3_name'}, inplace=True)"
   ]
  },
  {
   "cell_type": "code",
   "execution_count": null,
   "metadata": {},
   "outputs": [],
   "source": [
    "df_imdb_final"
   ]
  },
  {
   "cell_type": "markdown",
   "metadata": {},
   "source": [
    "### Principals"
   ]
  },
  {
   "cell_type": "code",
   "execution_count": null,
   "metadata": {},
   "outputs": [],
   "source": [
    "df_principals['category'].isin(['actor', 'actress'])"
   ]
  },
  {
   "cell_type": "code",
   "execution_count": null,
   "metadata": {},
   "outputs": [],
   "source": [
    "df_principals['ordering'].unique()"
   ]
  },
  {
   "cell_type": "code",
   "execution_count": null,
   "metadata": {},
   "outputs": [],
   "source": [
    "df_principals['tconst'].nunique()"
   ]
  },
  {
   "cell_type": "code",
   "execution_count": 49,
   "metadata": {},
   "outputs": [],
   "source": [
    "# df_principals[df_principals['category'].isin(['actor', 'actress'])].groupby('ordering').size() / (df_principals['tconst'].nunique()) * 100"
   ]
  },
  {
   "cell_type": "code",
   "execution_count": 50,
   "metadata": {},
   "outputs": [],
   "source": [
    "# df_principals[df_principals['category'].isin(['actor', 'actress'])].groupby('ordering').size() / (df_principals.loc[df_principals['category'].isin(['actor', 'actress']), ['tconst']].nunique()[0]) * 100"
   ]
  },
  {
   "cell_type": "code",
   "execution_count": 51,
   "metadata": {},
   "outputs": [],
   "source": [
    "df_principals_filtered = df_principals.copy()"
   ]
  },
  {
   "cell_type": "code",
   "execution_count": 52,
   "metadata": {},
   "outputs": [],
   "source": [
    "df_principals_filtered = df_principals_filtered[df_principals_filtered['category'].isin(['actor', 'actress'])]"
   ]
  },
  {
   "cell_type": "code",
   "execution_count": null,
   "metadata": {},
   "outputs": [],
   "source": [
    "df_principals_filtered['category'].unique()"
   ]
  },
  {
   "cell_type": "code",
   "execution_count": 54,
   "metadata": {},
   "outputs": [],
   "source": [
    "df_principals_filtered = df_principals_filtered[df_principals_filtered['ordering'] <= 5]"
   ]
  },
  {
   "cell_type": "code",
   "execution_count": null,
   "metadata": {},
   "outputs": [],
   "source": [
    "df_principals_filtered['ordering'].unique()"
   ]
  },
  {
   "cell_type": "code",
   "execution_count": null,
   "metadata": {},
   "outputs": [],
   "source": [
    "df_principals_filtered['tconst'].nunique()"
   ]
  },
  {
   "cell_type": "code",
   "execution_count": 57,
   "metadata": {},
   "outputs": [],
   "source": [
    "df_principals_filtered = df_principals_filtered.merge(df_names[['nconst', 'primaryName']], how='left', on='nconst')"
   ]
  },
  {
   "cell_type": "code",
   "execution_count": 58,
   "metadata": {},
   "outputs": [],
   "source": [
    "df_principals_filtered.rename(columns={'primaryName' : 'a_name'}, inplace=True)"
   ]
  },
  {
   "cell_type": "code",
   "execution_count": 59,
   "metadata": {},
   "outputs": [],
   "source": [
    "df_principals_filtered = df_principals_filtered.pivot(index='tconst', columns='ordering', values='a_name')"
   ]
  },
  {
   "cell_type": "code",
   "execution_count": 60,
   "metadata": {},
   "outputs": [],
   "source": [
    "df_principals_filtered = df_principals_filtered.reset_index()"
   ]
  },
  {
   "cell_type": "code",
   "execution_count": null,
   "metadata": {},
   "outputs": [],
   "source": [
    "df_principals_filtered.rename_axis(None)"
   ]
  },
  {
   "cell_type": "code",
   "execution_count": 69,
   "metadata": {},
   "outputs": [],
   "source": [
    "df_principals_filtered.rename_axis('', axis=1, inplace=True)"
   ]
  },
  {
   "cell_type": "code",
   "execution_count": 64,
   "metadata": {},
   "outputs": [],
   "source": [
    "df_principals_filtered.rename(columns={1 : 'acting',\n",
    "                                       2 : 'acting2',\n",
    "                                       3 : 'acting3',\n",
    "                                       4 : 'acting4',\n",
    "                                       5 : 'acting5'}, inplace=True)"
   ]
  },
  {
   "cell_type": "code",
   "execution_count": null,
   "metadata": {},
   "outputs": [],
   "source": [
    "df_principals_filtered"
   ]
  },
  {
   "cell_type": "code",
   "execution_count": 71,
   "metadata": {},
   "outputs": [],
   "source": [
    "df_imdb_final = df_imdb_final.merge(df_principals_filtered, how='left', on='tconst')"
   ]
  },
  {
   "cell_type": "code",
   "execution_count": 72,
   "metadata": {},
   "outputs": [],
   "source": [
    "df_akas.rename(columns={'titleId' : 'tconst'}, inplace=True)"
   ]
  },
  {
   "cell_type": "markdown",
   "metadata": {},
   "source": [
    "### Ratings"
   ]
  },
  {
   "cell_type": "code",
   "execution_count": 73,
   "metadata": {},
   "outputs": [],
   "source": [
    "df_imdb_final = df_imdb_final.merge(df_ratings, how='left', on='tconst')"
   ]
  },
  {
   "cell_type": "code",
   "execution_count": null,
   "metadata": {},
   "outputs": [],
   "source": [
    "df_imdb_final"
   ]
  },
  {
   "cell_type": "markdown",
   "metadata": {},
   "source": [
    "### Filtering"
   ]
  },
  {
   "cell_type": "code",
   "execution_count": 75,
   "metadata": {},
   "outputs": [],
   "source": [
    "# Filtering for years\n",
    "df_imdb_final = df_imdb_final[(df_imdb_final['startYear'] >= 1998) & (df_imdb_final['startYear'] <= 2023)]"
   ]
  },
  {
   "cell_type": "code",
   "execution_count": null,
   "metadata": {},
   "outputs": [],
   "source": [
    "df_imdb_final[df_imdb_final['tconst'] == 'tt7846844']"
   ]
  },
  {
   "cell_type": "code",
   "execution_count": 77,
   "metadata": {},
   "outputs": [],
   "source": [
    "df_imdb_final = df_imdb_final[df_imdb_final['titleType'] == 'movie']"
   ]
  },
  {
   "cell_type": "code",
   "execution_count": 78,
   "metadata": {},
   "outputs": [],
   "source": [
    "df_imdb_final.drop(columns=['director', 'director2', 'director3', 'writer', 'writer2', 'writer3'], inplace=True)"
   ]
  },
  {
   "cell_type": "code",
   "execution_count": 79,
   "metadata": {},
   "outputs": [],
   "source": [
    "df_imdb_final.rename(columns={'titleType' : 'title_type',\n",
    "                              'primaryTitle' : 'primary_title',\n",
    "                              'originalTitle' : 'original_title',\n",
    "                              'isAdult' : 'is_adult',\n",
    "                              'startYear' : 'year',\n",
    "                              'endYear' : 'end_year',\n",
    "                              'runtimeMinutes' : 'runtime',\n",
    "                              'averageRating' : 'average_rating',\n",
    "                              'numVotes' : 'num_votes'}, inplace=True)"
   ]
  },
  {
   "cell_type": "code",
   "execution_count": 80,
   "metadata": {},
   "outputs": [],
   "source": [
    "df_imdb_final.drop(columns=['end_year'], inplace=True)"
   ]
  },
  {
   "cell_type": "code",
   "execution_count": null,
   "metadata": {},
   "outputs": [],
   "source": [
    "df_imdb_final[df_imdb_final['average_rating'].notnull()].count()"
   ]
  },
  {
   "cell_type": "code",
   "execution_count": null,
   "metadata": {},
   "outputs": [],
   "source": [
    "df_imdb_final.isnull().sum()"
   ]
  },
  {
   "cell_type": "code",
   "execution_count": 83,
   "metadata": {},
   "outputs": [],
   "source": [
    "df_imdb_final.to_csv('./Data/df_imdb_final.csv')"
   ]
  },
  {
   "cell_type": "code",
   "execution_count": null,
   "metadata": {},
   "outputs": [],
   "source": [
    "df_imdb_final.shape"
   ]
  },
  {
   "cell_type": "markdown",
   "metadata": {},
   "source": [
    "### Genre cleaning"
   ]
  },
  {
   "cell_type": "code",
   "execution_count": null,
   "metadata": {},
   "outputs": [],
   "source": [
    "df_imdb_final[df_imdb_final['genres'].str.count(',') == 2.0]"
   ]
  },
  {
   "cell_type": "code",
   "execution_count": 92,
   "metadata": {},
   "outputs": [],
   "source": [
    "df_imdb_final['genres_count'] = df_imdb_final['genres'].str.count(',') + 1"
   ]
  },
  {
   "cell_type": "code",
   "execution_count": null,
   "metadata": {},
   "outputs": [],
   "source": [
    "df_imdb_final.groupby('genres_count').size() / (len(df_imdb_final)) * 100"
   ]
  },
  {
   "cell_type": "code",
   "execution_count": 101,
   "metadata": {},
   "outputs": [],
   "source": [
    "df_imdb_final[['genre', 'genre2', 'genre3']] = df_imdb_final['genres'].str.split(',', n=2, expand=True)"
   ]
  },
  {
   "cell_type": "code",
   "execution_count": 104,
   "metadata": {},
   "outputs": [],
   "source": [
    "df_imdb_final.drop(columns='genres', inplace=True)"
   ]
  },
  {
   "cell_type": "code",
   "execution_count": null,
   "metadata": {},
   "outputs": [],
   "source": [
    "df_imdb_final[df_imdb_final['genre'].isin(['Talk-Show', 'Reality-TV', 'Game-Show'])]"
   ]
  },
  {
   "cell_type": "code",
   "execution_count": null,
   "metadata": {},
   "outputs": [],
   "source": [
    "df_imdb_final.head()"
   ]
  },
  {
   "cell_type": "markdown",
   "metadata": {},
   "source": [
    "### Dropping NaN Ratings"
   ]
  },
  {
   "cell_type": "code",
   "execution_count": null,
   "metadata": {},
   "outputs": [],
   "source": [
    "df_imdb_final[df_imdb_final['average_rating'].isnull()]"
   ]
  },
  {
   "cell_type": "code",
   "execution_count": 112,
   "metadata": {},
   "outputs": [],
   "source": [
    "df_imdb_final = df_imdb_final[df_imdb_final['average_rating'].notnull()]"
   ]
  },
  {
   "cell_type": "markdown",
   "metadata": {},
   "source": [
    "### WIEDER MIT GENRES BESCHAEFTIGEN"
   ]
  },
  {
   "cell_type": "code",
   "execution_count": null,
   "metadata": {},
   "outputs": [],
   "source": [
    "df_imdb_final['genre'].unique()"
   ]
  },
  {
   "cell_type": "code",
   "execution_count": 166,
   "metadata": {},
   "outputs": [],
   "source": [
    "df_imdb_final = df_imdb_final[~df_imdb_final['genre'].isin(['Talk-Show', 'Reality-TV'])]\n",
    "df_imdb_final = df_imdb_final[~df_imdb_final['genre2'].isin(['Talk-Show', 'Reality-TV'])]\n",
    "df_imdb_final = df_imdb_final[~df_imdb_final['genre3'].isin(['Talk-Show', 'Reality-TV', 'Game-Show'])]"
   ]
  },
  {
   "cell_type": "code",
   "execution_count": null,
   "metadata": {},
   "outputs": [],
   "source": [
    "df_imdb_final[df_imdb_final['genre'] == 'News']"
   ]
  },
  {
   "cell_type": "code",
   "execution_count": null,
   "metadata": {},
   "outputs": [],
   "source": [
    "df_imdb_final[df_imdb_final['genre2'] == 'News']"
   ]
  },
  {
   "cell_type": "code",
   "execution_count": null,
   "metadata": {},
   "outputs": [],
   "source": [
    "df_imdb_final[df_imdb_final['genre3'] == 'News']"
   ]
  },
  {
   "cell_type": "code",
   "execution_count": null,
   "metadata": {},
   "outputs": [],
   "source": [
    "df_imdb_final['genre2'].unique()"
   ]
  },
  {
   "cell_type": "code",
   "execution_count": null,
   "metadata": {},
   "outputs": [],
   "source": [
    "df_imdb_final['genre3'].unique()"
   ]
  },
  {
   "cell_type": "code",
   "execution_count": 144,
   "metadata": {},
   "outputs": [],
   "source": [
    "pd.options.mode.copy_on_write = True"
   ]
  },
  {
   "cell_type": "code",
   "execution_count": 145,
   "metadata": {},
   "outputs": [],
   "source": [
    "df_imdb_final.replace({None : np.nan}, inplace=True)"
   ]
  },
  {
   "cell_type": "code",
   "execution_count": null,
   "metadata": {},
   "outputs": [],
   "source": [
    "df_imdb_final[df_imdb_final['genre'].isnull()]"
   ]
  },
  {
   "cell_type": "markdown",
   "metadata": {},
   "source": [
    "### Votes"
   ]
  },
  {
   "cell_type": "code",
   "execution_count": null,
   "metadata": {},
   "outputs": [],
   "source": [
    "df_imdb_final[df_imdb_final['num_votes'] <= 5]"
   ]
  },
  {
   "cell_type": "code",
   "execution_count": null,
   "metadata": {},
   "outputs": [],
   "source": [
    "df_imdb_final.columns"
   ]
  },
  {
   "cell_type": "code",
   "execution_count": 178,
   "metadata": {},
   "outputs": [],
   "source": [
    "df_imdb_final.drop(columns='title_type', inplace=True)"
   ]
  },
  {
   "cell_type": "code",
   "execution_count": 181,
   "metadata": {},
   "outputs": [],
   "source": [
    "df_imdb_final = df_imdb_final[['tconst', 'primary_title', 'original_title', 'year', 'runtime', 'num_votes', 'average_rating', 'genres_count', 'genre', 'genre2', 'genre3', 'acting', 'acting2', 'acting3', 'acting4', 'acting5', \n",
    "              'directors_count', 'director_name', 'director2_name', 'director3_name', 'writers_count', 'writer_name', 'writer2_name', 'writer3_name', 'is_adult']] "
   ]
  },
  {
   "cell_type": "code",
   "execution_count": null,
   "metadata": {},
   "outputs": [],
   "source": [
    "df_imdb_final"
   ]
  },
  {
   "cell_type": "code",
   "execution_count": null,
   "metadata": {},
   "outputs": [],
   "source": [
    "display(df_admissions_EU_clean['title'].nunique())\n",
    "display(df_admissions_NA_clean.shape)"
   ]
  },
  {
   "cell_type": "code",
   "execution_count": null,
   "metadata": {},
   "outputs": [],
   "source": [
    "df_admissions_NA_clean['distributor'].nunique()"
   ]
  },
  {
   "cell_type": "markdown",
   "metadata": {},
   "source": [
    "### Uploading to SQL"
   ]
  },
  {
   "cell_type": "code",
   "execution_count": 185,
   "metadata": {},
   "outputs": [],
   "source": [
    "from sql_functions import get_engine, schema\n",
    "import psycopg2\n",
    "engine = get_engine()\n",
    "schema = schema()\n",
    "table_name = 'movie_data_EU'\n",
    "table_name2 = 'movie_data_NA'\n",
    "table_name3 = 'IMDB_data'"
   ]
  },
  {
   "cell_type": "code",
   "execution_count": null,
   "metadata": {},
   "outputs": [],
   "source": [
    "# Write records stored in a dataframe to SQL database\n",
    "if engine!=None:\n",
    "    try:\n",
    "        df_admissions_EU_clean.to_sql(table_name, # Name of SQL table\n",
    "                        con=engine, # Engine or connection\n",
    "                        if_exists='replace', # Drop the table before inserting new values \n",
    "                        schema=schema, # your class schema\n",
    "                        index=False, # Write DataFrame index as a column\n",
    "                        chunksize=5000, # Specify the number of rows in each batch to be written at a time\n",
    "                        method='multi') # Pass multiple values in a single INSERT clause\n",
    "        print(f\"The {table_name} table was imported successfully.\")\n",
    "    # Error handling\n",
    "    except (Exception, psycopg2.DatabaseError) as error:\n",
    "        print(error)\n",
    "        engine = None\n",
    "\n",
    "if engine!=None:\n",
    "    try:\n",
    "        df_admissions_NA_clean.to_sql(table_name2, # Name of SQL table\n",
    "                        con=engine, # Engine or connection\n",
    "                        if_exists='replace', # Drop the table before inserting new values \n",
    "                        schema=schema, # your class schema\n",
    "                        index=False, # Write DataFrame index as a column\n",
    "                        chunksize=5000, # Specify the number of rows in each batch to be written at a time\n",
    "                        method='multi') # Pass multiple values in a single INSERT clause\n",
    "        print(f\"The {table_name2} table was imported successfully.\")\n",
    "    # Error handling\n",
    "    except (Exception, psycopg2.DatabaseError) as error:\n",
    "        print(error)\n",
    "        engine = None\n",
    "\n",
    "if engine!=None:\n",
    "    try:\n",
    "        df_imdb_final.to_sql(table_name3, # Name of SQL table\n",
    "                        con=engine, # Engine or connection\n",
    "                        if_exists='replace', # Drop the table before inserting new values \n",
    "                        schema=schema, # your class schema\n",
    "                        index=False, # Write DataFrame index as a column\n",
    "                        chunksize=5000, # Specify the number of rows in each batch to be written at a time\n",
    "                        method='multi') # Pass multiple values in a single INSERT clause\n",
    "        print(f\"The {table_name3} table was imported successfully.\")\n",
    "    # Error handling\n",
    "    except (Exception, psycopg2.DatabaseError) as error:\n",
    "        print(error)\n",
    "        engine = None"
   ]
  }
 ],
 "metadata": {
  "kernelspec": {
   "display_name": "nf_sql",
   "language": "python",
   "name": "python3"
  },
  "language_info": {
   "codemirror_mode": {
    "name": "ipython",
    "version": 3
   },
   "file_extension": ".py",
   "mimetype": "text/x-python",
   "name": "python",
   "nbconvert_exporter": "python",
   "pygments_lexer": "ipython3",
   "version": "3.9.19"
  }
 },
 "nbformat": 4,
 "nbformat_minor": 2
}

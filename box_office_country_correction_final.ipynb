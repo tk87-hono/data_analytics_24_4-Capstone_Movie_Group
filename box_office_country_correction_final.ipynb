{
 "cells": [
  {
   "cell_type": "markdown",
   "metadata": {},
   "source": [
    "# Import"
   ]
  },
  {
   "cell_type": "code",
   "execution_count": 5,
   "metadata": {},
   "outputs": [],
   "source": [
    "# import all packages\n",
    "import pandas as pd\n",
    "import numpy as np\n",
    "import psycopg2 as psycopg2\n",
    "import sql_functions as sqlf\n",
    "import string as string"
   ]
  },
  {
   "cell_type": "code",
   "execution_count": 2,
   "metadata": {},
   "outputs": [],
   "source": [
    "# pd.set_option(\"display.max.rows\", 150)"
   ]
  },
  {
   "cell_type": "code",
   "execution_count": 3,
   "metadata": {},
   "outputs": [],
   "source": [
    "schema = \"capstone_24_4_group1\""
   ]
  },
  {
   "cell_type": "code",
   "execution_count": 4,
   "metadata": {},
   "outputs": [],
   "source": [
    "bx_query = f'''   SELECT *\n",
    "                    FROM {schema}.\"raw_scraped_box_office\"\n",
    "                    '''"
   ]
  },
  {
   "cell_type": "code",
   "execution_count": 5,
   "metadata": {},
   "outputs": [],
   "source": [
    "box_office_df = sqlf.get_dataframe(bx_query)"
   ]
  },
  {
   "cell_type": "code",
   "execution_count": null,
   "metadata": {},
   "outputs": [],
   "source": [
    "display(box_office_df.head(10))"
   ]
  },
  {
   "cell_type": "code",
   "execution_count": 7,
   "metadata": {},
   "outputs": [],
   "source": [
    "# Transformation of colum [value]\n",
    "box_office_df.loc[ : , \"value\"] = box_office_df[\"value\"].str.replace(\"$\", \"\")\n",
    "box_office_df.loc[ : , \"value\"] = box_office_df[\"value\"].str.replace(\",\", \"\")\n",
    "box_office_df[\"value\"] = box_office_df[\"value\"].astype(\"Int64\")\n",
    "\n",
    "# Transformation of colum [release_group]\n",
    "box_office_df[\"release_group\"] = box_office_df[\"release_group\"].astype(\"Int64\")"
   ]
  },
  {
   "cell_type": "code",
   "execution_count": 8,
   "metadata": {},
   "outputs": [],
   "source": [
    "box_office_df.dropna(inplace= True)"
   ]
  },
  {
   "cell_type": "markdown",
   "metadata": {},
   "source": [
    "### Checked: Filme mit Film- und re-Release (bezogen auf Domestic-Daten) Lifetime domestic Daten haben"
   ]
  },
  {
   "cell_type": "code",
   "execution_count": 9,
   "metadata": {},
   "outputs": [],
   "source": [
    "box_office_df.drop(box_office_df[((box_office_df[\"release_group\"] == 0) | (box_office_df[\"release_group\"] == 1)) & (box_office_df[\"region\"] == \"Domestic\")].index, inplace = True)"
   ]
  },
  {
   "cell_type": "code",
   "execution_count": null,
   "metadata": {},
   "outputs": [],
   "source": [
    "box_office_df"
   ]
  },
  {
   "cell_type": "code",
   "execution_count": 11,
   "metadata": {},
   "outputs": [],
   "source": [
    "bx_df_new = box_office_df[(box_office_df[\"release_group\"] == 0) | (box_office_df[\"release_group\"] == 1)].groupby([\"tconst\", \"region\"]).sum()\n",
    "bx_df_new[\"release_group\"] = 2\n",
    "bx_df_new.reset_index(inplace=True)"
   ]
  },
  {
   "cell_type": "code",
   "execution_count": 12,
   "metadata": {},
   "outputs": [],
   "source": [
    "box_office_df = pd.concat([box_office_df,bx_df_new])\n",
    "box_office_df.drop(box_office_df[(box_office_df[\"release_group\"] == 0) | (box_office_df[\"release_group\"] == 1)].index, inplace = True)\n",
    "box_office_df.drop(columns=\"release_group\", inplace = True)"
   ]
  },
  {
   "cell_type": "markdown",
   "metadata": {},
   "source": [
    "## Inflation correction"
   ]
  },
  {
   "cell_type": "code",
   "execution_count": 13,
   "metadata": {},
   "outputs": [],
   "source": [
    "# Defining SQL queries for download\n",
    "imdb_tickets_data = f'''   SELECT *\n",
    "                    FROM {schema}.\"IMDB_tickets_data\"\n",
    "                    '''"
   ]
  },
  {
   "cell_type": "code",
   "execution_count": 14,
   "metadata": {},
   "outputs": [],
   "source": [
    "imdb_df = sqlf.get_dataframe(imdb_tickets_data)"
   ]
  },
  {
   "cell_type": "code",
   "execution_count": null,
   "metadata": {},
   "outputs": [],
   "source": [
    "display(imdb_df.head(10))"
   ]
  },
  {
   "cell_type": "code",
   "execution_count": 16,
   "metadata": {},
   "outputs": [],
   "source": [
    "# Merge sales AND year data to Boxoffice-table\n",
    "box_office_df = box_office_df.merge(imdb_df[[\"tconst\", \"year\", \"NA_gross_sales\"]], how = \"inner\", left_on = \"tconst\", right_on = \"tconst\")\n",
    "\n",
    "# Resort columns\n",
    "box_office_df = box_office_df.reindex([\"tconst\",\"region\", \"year\", \"value\", \"NA_gross_sales\"], axis=1)"
   ]
  },
  {
   "cell_type": "code",
   "execution_count": null,
   "metadata": {},
   "outputs": [],
   "source": [
    "# Import inflation correction function\n",
    "import cpi\n",
    "# cpi.update()"
   ]
  },
  {
   "cell_type": "code",
   "execution_count": 19,
   "metadata": {},
   "outputs": [],
   "source": [
    "box_office_df.drop(box_office_df[box_office_df[\"year\"] == 1997].index, inplace = True)"
   ]
  },
  {
   "cell_type": "code",
   "execution_count": null,
   "metadata": {},
   "outputs": [],
   "source": [
    "unique_years = box_office_df['year'].unique()\n",
    "inflation_factors = {year: cpi.inflate(1, year, to=2023, items=\"Admission to movies, theaters, and concerts\") for year in unique_years}\n",
    "\n",
    "box_office_df['inflation_factor'] = box_office_df['year'].map(inflation_factors)\n",
    "\n",
    "box_office_df['inflated_values'] = box_office_df['value'] * box_office_df['inflation_factor']"
   ]
  },
  {
   "cell_type": "code",
   "execution_count": null,
   "metadata": {},
   "outputs": [],
   "source": [
    "display(box_office_df)"
   ]
  },
  {
   "cell_type": "code",
   "execution_count": 22,
   "metadata": {},
   "outputs": [],
   "source": [
    "unique_years = box_office_df['year'].unique()\n",
    "inflation_factors = {year: cpi.inflate(1, year, to=2023, items=\"Admission to movies, theaters, and concerts\") for year in unique_years}\n",
    "\n",
    "box_office_df['NA_inflation_factor'] = box_office_df['year'].map(inflation_factors)\n",
    "\n",
    "box_office_df['NA_inflated_values'] = box_office_df['NA_gross_sales'] * box_office_df['NA_inflation_factor']"
   ]
  },
  {
   "cell_type": "code",
   "execution_count": null,
   "metadata": {},
   "outputs": [],
   "source": [
    "display(box_office_df)"
   ]
  },
  {
   "cell_type": "code",
   "execution_count": 24,
   "metadata": {},
   "outputs": [],
   "source": [
    "box_office_df.drop(columns=['inflation_factor', 'NA_inflation_factor'], inplace=True)"
   ]
  },
  {
   "cell_type": "code",
   "execution_count": null,
   "metadata": {},
   "outputs": [],
   "source": [
    "box_office_df.shape"
   ]
  },
  {
   "cell_type": "markdown",
   "metadata": {},
   "source": [
    "BOXOFFICE-TABELLE AN DIESER STELLE BEREIT FÜR UPLOAD (so wie damals ...)"
   ]
  },
  {
   "cell_type": "code",
   "execution_count": 27,
   "metadata": {},
   "outputs": [],
   "source": [
    "PIVOT_box_df = box_office_df.pivot(index='tconst', columns='region', values=['inflated_values', 'value']).reset_index()"
   ]
  },
  {
   "cell_type": "code",
   "execution_count": null,
   "metadata": {},
   "outputs": [],
   "source": [
    "PIVOT_box_df"
   ]
  },
  {
   "cell_type": "markdown",
   "metadata": {},
   "source": [
    "## UPLOAD"
   ]
  },
  {
   "cell_type": "code",
   "execution_count": 31,
   "metadata": {},
   "outputs": [],
   "source": [
    "dataframes = {\n",
    "    \"box_office_TEMP_PIVOT\":PIVOT_box_df\n",
    "}"
   ]
  },
  {
   "cell_type": "code",
   "execution_count": null,
   "metadata": {},
   "outputs": [],
   "source": [
    "# table_name = 'eu_merged'\n",
    "engine = sqlf.get_engine()\n",
    "engine\n",
    "# Write records stored in a dataframe to SQL database\n",
    "if engine != None:\n",
    "    try:\n",
    "        for table_name, df in dataframes.items():\n",
    "            df.to_sql(table_name, # Name of SQL table\n",
    "                            con=engine, # Engine or connection\n",
    "                            if_exists='replace', # Drop the table before inserting new values \n",
    "                            schema=schema, # your class schema\n",
    "                            index=False, # Write DataFrame index as a column\n",
    "                            chunksize=5000, # Specify the number of rows in each batch to be written at a time\n",
    "                            method='multi') # Pass multiple values in a single INSERT clause\n",
    "            print(f\"The {table_name} table was uploaded successfully.\")\n",
    "    # Error handling\n",
    "    except (Exception, psycopg2.DatabaseError) as error:\n",
    "        print(error)\n",
    "        engine = None\n",
    "else:\n",
    "    print(\"nope\") "
   ]
  },
  {
   "cell_type": "markdown",
   "metadata": {},
   "source": [
    "### Zwischenschritt: In Jonas' branch. Jupyter Notebook \"combine_box_office_worldwide\""
   ]
  },
  {
   "cell_type": "markdown",
   "metadata": {},
   "source": [
    "# MELTING & COUNTRY CORRECTION"
   ]
  },
  {
   "cell_type": "markdown",
   "metadata": {},
   "source": [
    "## DOWNLOAD"
   ]
  },
  {
   "cell_type": "code",
   "execution_count": 2,
   "metadata": {},
   "outputs": [],
   "source": [
    "schema = \"capstone_24_4_group1\""
   ]
  },
  {
   "cell_type": "code",
   "execution_count": 3,
   "metadata": {},
   "outputs": [],
   "source": [
    "bx_inf_query = f'''   SELECT *\n",
    "                    FROM {schema}.\"box_office_data_inflated\"\n",
    "                    '''"
   ]
  },
  {
   "cell_type": "code",
   "execution_count": 6,
   "metadata": {},
   "outputs": [],
   "source": [
    "box_inflated = sqlf.get_dataframe(bx_inf_query)"
   ]
  },
  {
   "cell_type": "code",
   "execution_count": 7,
   "metadata": {},
   "outputs": [
    {
     "data": {
      "text/html": [
       "<div>\n",
       "<style scoped>\n",
       "    .dataframe tbody tr th:only-of-type {\n",
       "        vertical-align: middle;\n",
       "    }\n",
       "\n",
       "    .dataframe tbody tr th {\n",
       "        vertical-align: top;\n",
       "    }\n",
       "\n",
       "    .dataframe thead th {\n",
       "        text-align: right;\n",
       "    }\n",
       "</style>\n",
       "<table border=\"1\" class=\"dataframe\">\n",
       "  <thead>\n",
       "    <tr style=\"text-align: right;\">\n",
       "      <th></th>\n",
       "      <th>tconst</th>\n",
       "      <th>country</th>\n",
       "      <th>values</th>\n",
       "      <th>inflated_values</th>\n",
       "    </tr>\n",
       "  </thead>\n",
       "  <tbody>\n",
       "    <tr>\n",
       "      <th>0</th>\n",
       "      <td>tt7399138</td>\n",
       "      <td>Albania</td>\n",
       "      <td>483.0</td>\n",
       "      <td>566.208970</td>\n",
       "    </tr>\n",
       "    <tr>\n",
       "      <th>1</th>\n",
       "      <td>tt10223460</td>\n",
       "      <td>Albania</td>\n",
       "      <td>30528.0</td>\n",
       "      <td>32280.176916</td>\n",
       "    </tr>\n",
       "    <tr>\n",
       "      <th>2</th>\n",
       "      <td>tt1051906</td>\n",
       "      <td>Albania</td>\n",
       "      <td>3359.0</td>\n",
       "      <td>3874.880639</td>\n",
       "    </tr>\n",
       "    <tr>\n",
       "      <th>3</th>\n",
       "      <td>tt10665342</td>\n",
       "      <td>Albania</td>\n",
       "      <td>9906.0</td>\n",
       "      <td>10474.562124</td>\n",
       "    </tr>\n",
       "    <tr>\n",
       "      <th>4</th>\n",
       "      <td>tt10954984</td>\n",
       "      <td>Albania</td>\n",
       "      <td>4186.0</td>\n",
       "      <td>4426.258535</td>\n",
       "    </tr>\n",
       "  </tbody>\n",
       "</table>\n",
       "</div>"
      ],
      "text/plain": [
       "       tconst  country   values  inflated_values\n",
       "0   tt7399138  Albania    483.0       566.208970\n",
       "1  tt10223460  Albania  30528.0     32280.176916\n",
       "2   tt1051906  Albania   3359.0      3874.880639\n",
       "3  tt10665342  Albania   9906.0     10474.562124\n",
       "4  tt10954984  Albania   4186.0      4426.258535"
      ]
     },
     "execution_count": 7,
     "metadata": {},
     "output_type": "execute_result"
    }
   ],
   "source": [
    "box_inflated.head(5)"
   ]
  },
  {
   "cell_type": "code",
   "execution_count": 8,
   "metadata": {},
   "outputs": [
    {
     "data": {
      "text/plain": [
       "array(['Albania', 'Argentina', 'Aruba', 'Australia', 'Austria', 'Bahrain',\n",
       "       'Baltic states', 'Bangladesh', 'Belgium', 'Bolivia', 'Bosnia',\n",
       "       'Bosnia and herzegovina', 'Brazil', 'Bulgaria', 'Cambodia',\n",
       "       'Canada', 'Central america', 'Chile', 'Central america+', 'China',\n",
       "       'Colombia', 'Costa rica', 'Croatia', 'Curaçao', 'Cyprus',\n",
       "       'Czech republic', 'Czech republic/slovakia', 'Denmark', 'Djibouti',\n",
       "       'Domestic', 'Dominican republic', 'E/w africa', 'East africa',\n",
       "       'Ecuador', 'Egypt', 'El salvador', 'Estonia', 'Ethiopia',\n",
       "       'Finland', 'France', 'Germany', 'Ghana', 'Greece',\n",
       "       'Greece and cyprus', 'Guatemala', 'Honduras', 'Hong kong',\n",
       "       'Hungary', 'Iceland', 'India', 'Indonesia', 'Iraq', 'Ireland',\n",
       "       'Israel', 'Italy', 'Jamaica', 'Japan', 'Jordan', 'Kenya', 'Kuwait',\n",
       "       'Laos', 'Latvia', 'Lebanon', 'Lebanon/united arab emirates',\n",
       "       'Lesser antilles', 'Lithuania', 'Malaysia', 'Malta', 'Mauritius',\n",
       "       'Mexico', 'Middle east', 'Middle east other', 'Middle east/uae',\n",
       "       'Mongolia', 'Morocco', 'Netherlands', 'Netherlands antilles',\n",
       "       'New caledonia', 'New zealand', 'Nicaragua', 'Nigeria',\n",
       "       'North macedonia', 'Norway', 'Oman', 'Pakistan', 'Palestine',\n",
       "       'Panama', 'Paraguay', 'Peru', 'Philippines', 'Poland', 'Portugal',\n",
       "       'Puerto rico', 'Qatar', 'Reunion', 'Romania', 'Russia',\n",
       "       'Russia/cis', 'Russia/cis/ukraine', 'S/e/w africa', 'Saudi arabia',\n",
       "       'Serbia and montenegro', 'Singapore', 'Slovakia', 'Slovenia',\n",
       "       'South africa', 'South africa/nigeria', 'South korea', 'Spain',\n",
       "       'Sri lanka', 'Sweden', 'Switzerland', 'Switzerland french',\n",
       "       'Switzerland french/italian', 'Switzerland german',\n",
       "       'Switzerland italian', 'Syria', 'Taiwan', 'Thailand',\n",
       "       'Trinidad & tobago', 'Tunisia', 'Türkiye', 'Ukraine',\n",
       "       'United arab emirates', 'United kingdom', 'Uruguay', 'Venezuela',\n",
       "       'Vietnam', 'West indies', 'Yugoslavia', 'World'], dtype=object)"
      ]
     },
     "execution_count": 8,
     "metadata": {},
     "output_type": "execute_result"
    }
   ],
   "source": [
    "box_inflated[\"country\"].unique()"
   ]
  },
  {
   "cell_type": "code",
   "execution_count": 9,
   "metadata": {},
   "outputs": [],
   "source": [
    "bx_csv = pd.read_csv(\"Data/bx_countries.csv\", sep=\";\")"
   ]
  },
  {
   "cell_type": "code",
   "execution_count": 10,
   "metadata": {},
   "outputs": [
    {
     "data": {
      "text/html": [
       "<div>\n",
       "<style scoped>\n",
       "    .dataframe tbody tr th:only-of-type {\n",
       "        vertical-align: middle;\n",
       "    }\n",
       "\n",
       "    .dataframe tbody tr th {\n",
       "        vertical-align: top;\n",
       "    }\n",
       "\n",
       "    .dataframe thead th {\n",
       "        text-align: right;\n",
       "    }\n",
       "</style>\n",
       "<table border=\"1\" class=\"dataframe\">\n",
       "  <thead>\n",
       "    <tr style=\"text-align: right;\">\n",
       "      <th></th>\n",
       "      <th>bx_country</th>\n",
       "      <th>long_name</th>\n",
       "    </tr>\n",
       "  </thead>\n",
       "  <tbody>\n",
       "    <tr>\n",
       "      <th>0</th>\n",
       "      <td>Albania</td>\n",
       "      <td>Albania</td>\n",
       "    </tr>\n",
       "    <tr>\n",
       "      <th>1</th>\n",
       "      <td>Argentina</td>\n",
       "      <td>Argentina</td>\n",
       "    </tr>\n",
       "    <tr>\n",
       "      <th>2</th>\n",
       "      <td>Aruba</td>\n",
       "      <td>Aruba</td>\n",
       "    </tr>\n",
       "  </tbody>\n",
       "</table>\n",
       "</div>"
      ],
      "text/plain": [
       "  bx_country  long_name\n",
       "0    Albania    Albania\n",
       "1  Argentina  Argentina\n",
       "2      Aruba      Aruba"
      ]
     },
     "metadata": {},
     "output_type": "display_data"
    }
   ],
   "source": [
    "display(bx_csv.head(3))"
   ]
  },
  {
   "cell_type": "code",
   "execution_count": 11,
   "metadata": {},
   "outputs": [],
   "source": [
    "bx_infl_new = box_inflated.merge(bx_csv, how= \"left\", left_on=\"country\", right_on=\"bx_country\")"
   ]
  },
  {
   "cell_type": "code",
   "execution_count": 12,
   "metadata": {},
   "outputs": [
    {
     "data": {
      "text/plain": [
       "array(['Albania', 'Argentina', 'Aruba', 'Australia', 'Austria', 'Bahrain',\n",
       "       'Baltic states', 'Bangladesh', 'Belgium',\n",
       "       'Plurinational State of Bolivia', 'Bosnia and Herzegovina',\n",
       "       'Brazil', 'Bulgaria', 'Cambodia', 'Canada', 'Central America',\n",
       "       'Chile', 'China', 'Colombia', 'Costa Rica', 'Croatia', 'Curaçao',\n",
       "       'Cyprus', 'Czechia', 'Czech Republic/Slovakia', 'Denmark',\n",
       "       'Djibouti', 'United States of America', 'Dominican Republic',\n",
       "       'E/W Africa', 'East Africa', 'Ecuador', 'Egypt', 'El Salvador',\n",
       "       'Estonia', 'Ethiopia', 'Finland', 'France', 'Germany', 'Ghana',\n",
       "       'Greece', 'Greece and Cyprus', 'Guatemala', 'Honduras',\n",
       "       'Hong Kong', 'Hungary', 'Iceland', 'India', 'Indonesia', 'Iraq',\n",
       "       'Ireland', 'Israel', 'Italy', 'Jamaica', 'Japan', 'Jordan',\n",
       "       'Kenya', 'Kuwait', 'Laos', 'Latvia', 'Lebanon',\n",
       "       'Lebanon/United Arab Emirates', 'Netherlands Antilles',\n",
       "       'Lithuania', 'Malaysia', 'Malta', 'Mauritius', 'Mexico',\n",
       "       'Middle East', 'Mongolia', 'Morocco', 'Kingdom of the Netherlands',\n",
       "       'New Caledonia', 'New Zealand', 'Nicaragua', 'Nigeria',\n",
       "       'North Macedonia', 'Norway', 'Oman', 'Pakistan', 'Palestine',\n",
       "       'Panama', 'Paraguay', 'Peru', 'Philippines', 'Poland', 'Portugal',\n",
       "       'Puerto Rico', 'Qatar', 'Réunion', 'Romania', 'Russian Federation',\n",
       "       'Russia/CIS', 'Russia/CIS/Ukraine', 'S/E/W Africa', 'Saudi Arabia',\n",
       "       'Serbia and Montenegro', 'Singapore', 'Slovakia', 'Slovenia',\n",
       "       'South Africa', 'South Africa/Nigeria', 'South Korea', 'Spain',\n",
       "       'Sri Lanka', 'Sweden', 'Switzerland', 'Syrian Arab Republic',\n",
       "       'Taiwan', 'Thailand', 'Trinidad and Tobago', 'Tunisia', 'Turkey',\n",
       "       'Ukraine', 'United Arab Emirates',\n",
       "       'United Kingdom of Great Britain and Northern Ireland', 'Uruguay',\n",
       "       'Bolivarian Republic of Venezuela', 'Vietnam', 'West Indies',\n",
       "       'Yugoslavia', 'World'], dtype=object)"
      ]
     },
     "execution_count": 12,
     "metadata": {},
     "output_type": "execute_result"
    }
   ],
   "source": [
    "bx_infl_new[\"long_name\"].unique()"
   ]
  },
  {
   "cell_type": "code",
   "execution_count": 14,
   "metadata": {},
   "outputs": [
    {
     "data": {
      "text/html": [
       "<div>\n",
       "<style scoped>\n",
       "    .dataframe tbody tr th:only-of-type {\n",
       "        vertical-align: middle;\n",
       "    }\n",
       "\n",
       "    .dataframe tbody tr th {\n",
       "        vertical-align: top;\n",
       "    }\n",
       "\n",
       "    .dataframe thead th {\n",
       "        text-align: right;\n",
       "    }\n",
       "</style>\n",
       "<table border=\"1\" class=\"dataframe\">\n",
       "  <thead>\n",
       "    <tr style=\"text-align: right;\">\n",
       "      <th></th>\n",
       "      <th>tconst</th>\n",
       "      <th>country</th>\n",
       "      <th>values</th>\n",
       "      <th>inflated_values</th>\n",
       "      <th>bx_country</th>\n",
       "      <th>long_name</th>\n",
       "    </tr>\n",
       "  </thead>\n",
       "  <tbody>\n",
       "    <tr>\n",
       "      <th>0</th>\n",
       "      <td>tt7399138</td>\n",
       "      <td>Albania</td>\n",
       "      <td>483.0</td>\n",
       "      <td>5.662090e+02</td>\n",
       "      <td>Albania</td>\n",
       "      <td>Albania</td>\n",
       "    </tr>\n",
       "    <tr>\n",
       "      <th>1</th>\n",
       "      <td>tt10223460</td>\n",
       "      <td>Albania</td>\n",
       "      <td>30528.0</td>\n",
       "      <td>3.228018e+04</td>\n",
       "      <td>Albania</td>\n",
       "      <td>Albania</td>\n",
       "    </tr>\n",
       "    <tr>\n",
       "      <th>2</th>\n",
       "      <td>tt1051906</td>\n",
       "      <td>Albania</td>\n",
       "      <td>3359.0</td>\n",
       "      <td>3.874881e+03</td>\n",
       "      <td>Albania</td>\n",
       "      <td>Albania</td>\n",
       "    </tr>\n",
       "    <tr>\n",
       "      <th>3</th>\n",
       "      <td>tt10665342</td>\n",
       "      <td>Albania</td>\n",
       "      <td>9906.0</td>\n",
       "      <td>1.047456e+04</td>\n",
       "      <td>Albania</td>\n",
       "      <td>Albania</td>\n",
       "    </tr>\n",
       "    <tr>\n",
       "      <th>4</th>\n",
       "      <td>tt10954984</td>\n",
       "      <td>Albania</td>\n",
       "      <td>4186.0</td>\n",
       "      <td>4.426259e+03</td>\n",
       "      <td>Albania</td>\n",
       "      <td>Albania</td>\n",
       "    </tr>\n",
       "    <tr>\n",
       "      <th>...</th>\n",
       "      <td>...</td>\n",
       "      <td>...</td>\n",
       "      <td>...</td>\n",
       "      <td>...</td>\n",
       "      <td>...</td>\n",
       "      <td>...</td>\n",
       "    </tr>\n",
       "    <tr>\n",
       "      <th>153294</th>\n",
       "      <td>tt9883996</td>\n",
       "      <td>World</td>\n",
       "      <td>6572790.0</td>\n",
       "      <td>7.582250e+06</td>\n",
       "      <td>World</td>\n",
       "      <td>World</td>\n",
       "    </tr>\n",
       "    <tr>\n",
       "      <th>153295</th>\n",
       "      <td>tt9896876</td>\n",
       "      <td>World</td>\n",
       "      <td>331328.0</td>\n",
       "      <td>3.713260e+05</td>\n",
       "      <td>World</td>\n",
       "      <td>World</td>\n",
       "    </tr>\n",
       "    <tr>\n",
       "      <th>153296</th>\n",
       "      <td>tt9907782</td>\n",
       "      <td>World</td>\n",
       "      <td>4588389.0</td>\n",
       "      <td>5.142300e+06</td>\n",
       "      <td>World</td>\n",
       "      <td>World</td>\n",
       "    </tr>\n",
       "    <tr>\n",
       "      <th>153297</th>\n",
       "      <td>tt9908390</td>\n",
       "      <td>World</td>\n",
       "      <td>3507860.0</td>\n",
       "      <td>4.046603e+06</td>\n",
       "      <td>World</td>\n",
       "      <td>World</td>\n",
       "    </tr>\n",
       "    <tr>\n",
       "      <th>153298</th>\n",
       "      <td>tt9911196</td>\n",
       "      <td>World</td>\n",
       "      <td>7760946.0</td>\n",
       "      <td>8.952885e+06</td>\n",
       "      <td>World</td>\n",
       "      <td>World</td>\n",
       "    </tr>\n",
       "  </tbody>\n",
       "</table>\n",
       "<p>153299 rows × 6 columns</p>\n",
       "</div>"
      ],
      "text/plain": [
       "            tconst  country     values  inflated_values bx_country long_name\n",
       "0        tt7399138  Albania      483.0     5.662090e+02    Albania   Albania\n",
       "1       tt10223460  Albania    30528.0     3.228018e+04    Albania   Albania\n",
       "2        tt1051906  Albania     3359.0     3.874881e+03    Albania   Albania\n",
       "3       tt10665342  Albania     9906.0     1.047456e+04    Albania   Albania\n",
       "4       tt10954984  Albania     4186.0     4.426259e+03    Albania   Albania\n",
       "...            ...      ...        ...              ...        ...       ...\n",
       "153294   tt9883996    World  6572790.0     7.582250e+06      World     World\n",
       "153295   tt9896876    World   331328.0     3.713260e+05      World     World\n",
       "153296   tt9907782    World  4588389.0     5.142300e+06      World     World\n",
       "153297   tt9908390    World  3507860.0     4.046603e+06      World     World\n",
       "153298   tt9911196    World  7760946.0     8.952885e+06      World     World\n",
       "\n",
       "[153299 rows x 6 columns]"
      ]
     },
     "execution_count": 14,
     "metadata": {},
     "output_type": "execute_result"
    }
   ],
   "source": [
    "bx_infl_new"
   ]
  },
  {
   "cell_type": "code",
   "execution_count": 15,
   "metadata": {},
   "outputs": [],
   "source": [
    "bx_infl_new = bx_infl_new[[\"tconst\", \"long_name\", \"values\", \"inflated_values\"]]"
   ]
  },
  {
   "cell_type": "code",
   "execution_count": 16,
   "metadata": {},
   "outputs": [
    {
     "data": {
      "text/html": [
       "<div>\n",
       "<style scoped>\n",
       "    .dataframe tbody tr th:only-of-type {\n",
       "        vertical-align: middle;\n",
       "    }\n",
       "\n",
       "    .dataframe tbody tr th {\n",
       "        vertical-align: top;\n",
       "    }\n",
       "\n",
       "    .dataframe thead th {\n",
       "        text-align: right;\n",
       "    }\n",
       "</style>\n",
       "<table border=\"1\" class=\"dataframe\">\n",
       "  <thead>\n",
       "    <tr style=\"text-align: right;\">\n",
       "      <th></th>\n",
       "      <th>tconst</th>\n",
       "      <th>long_name</th>\n",
       "      <th>values</th>\n",
       "      <th>inflated_values</th>\n",
       "    </tr>\n",
       "  </thead>\n",
       "  <tbody>\n",
       "    <tr>\n",
       "      <th>0</th>\n",
       "      <td>tt7399138</td>\n",
       "      <td>Albania</td>\n",
       "      <td>483.0</td>\n",
       "      <td>5.662090e+02</td>\n",
       "    </tr>\n",
       "    <tr>\n",
       "      <th>1</th>\n",
       "      <td>tt10223460</td>\n",
       "      <td>Albania</td>\n",
       "      <td>30528.0</td>\n",
       "      <td>3.228018e+04</td>\n",
       "    </tr>\n",
       "    <tr>\n",
       "      <th>2</th>\n",
       "      <td>tt1051906</td>\n",
       "      <td>Albania</td>\n",
       "      <td>3359.0</td>\n",
       "      <td>3.874881e+03</td>\n",
       "    </tr>\n",
       "    <tr>\n",
       "      <th>3</th>\n",
       "      <td>tt10665342</td>\n",
       "      <td>Albania</td>\n",
       "      <td>9906.0</td>\n",
       "      <td>1.047456e+04</td>\n",
       "    </tr>\n",
       "    <tr>\n",
       "      <th>4</th>\n",
       "      <td>tt10954984</td>\n",
       "      <td>Albania</td>\n",
       "      <td>4186.0</td>\n",
       "      <td>4.426259e+03</td>\n",
       "    </tr>\n",
       "    <tr>\n",
       "      <th>...</th>\n",
       "      <td>...</td>\n",
       "      <td>...</td>\n",
       "      <td>...</td>\n",
       "      <td>...</td>\n",
       "    </tr>\n",
       "    <tr>\n",
       "      <th>153294</th>\n",
       "      <td>tt9883996</td>\n",
       "      <td>World</td>\n",
       "      <td>6572790.0</td>\n",
       "      <td>7.582250e+06</td>\n",
       "    </tr>\n",
       "    <tr>\n",
       "      <th>153295</th>\n",
       "      <td>tt9896876</td>\n",
       "      <td>World</td>\n",
       "      <td>331328.0</td>\n",
       "      <td>3.713260e+05</td>\n",
       "    </tr>\n",
       "    <tr>\n",
       "      <th>153296</th>\n",
       "      <td>tt9907782</td>\n",
       "      <td>World</td>\n",
       "      <td>4588389.0</td>\n",
       "      <td>5.142300e+06</td>\n",
       "    </tr>\n",
       "    <tr>\n",
       "      <th>153297</th>\n",
       "      <td>tt9908390</td>\n",
       "      <td>World</td>\n",
       "      <td>3507860.0</td>\n",
       "      <td>4.046603e+06</td>\n",
       "    </tr>\n",
       "    <tr>\n",
       "      <th>153298</th>\n",
       "      <td>tt9911196</td>\n",
       "      <td>World</td>\n",
       "      <td>7760946.0</td>\n",
       "      <td>8.952885e+06</td>\n",
       "    </tr>\n",
       "  </tbody>\n",
       "</table>\n",
       "<p>153299 rows × 4 columns</p>\n",
       "</div>"
      ],
      "text/plain": [
       "            tconst long_name     values  inflated_values\n",
       "0        tt7399138   Albania      483.0     5.662090e+02\n",
       "1       tt10223460   Albania    30528.0     3.228018e+04\n",
       "2        tt1051906   Albania     3359.0     3.874881e+03\n",
       "3       tt10665342   Albania     9906.0     1.047456e+04\n",
       "4       tt10954984   Albania     4186.0     4.426259e+03\n",
       "...            ...       ...        ...              ...\n",
       "153294   tt9883996     World  6572790.0     7.582250e+06\n",
       "153295   tt9896876     World   331328.0     3.713260e+05\n",
       "153296   tt9907782     World  4588389.0     5.142300e+06\n",
       "153297   tt9908390     World  3507860.0     4.046603e+06\n",
       "153298   tt9911196     World  7760946.0     8.952885e+06\n",
       "\n",
       "[153299 rows x 4 columns]"
      ]
     },
     "execution_count": 16,
     "metadata": {},
     "output_type": "execute_result"
    }
   ],
   "source": [
    "bx_infl_new"
   ]
  },
  {
   "cell_type": "markdown",
   "metadata": {},
   "source": [
    "## Upload box_office_inflated"
   ]
  },
  {
   "cell_type": "code",
   "execution_count": 17,
   "metadata": {},
   "outputs": [],
   "source": [
    "dataframes = {\n",
    "    \"box_office_data_inflated\":bx_infl_new\n",
    "}"
   ]
  },
  {
   "cell_type": "code",
   "execution_count": 18,
   "metadata": {},
   "outputs": [
    {
     "name": "stdout",
     "output_type": "stream",
     "text": [
      "The box_office_data_inflated table was uploaded successfully.\n"
     ]
    }
   ],
   "source": [
    "# table_name = 'eu_merged'\n",
    "engine = sqlf.get_engine()\n",
    "engine\n",
    "# Write records stored in a dataframe to SQL database\n",
    "if engine != None:\n",
    "    try:\n",
    "        for table_name, df in dataframes.items():\n",
    "            df.to_sql(table_name, # Name of SQL table\n",
    "                            con=engine, # Engine or connection\n",
    "                            if_exists='replace', # Drop the table before inserting new values \n",
    "                            schema=schema, # your class schema\n",
    "                            index=False, # Write DataFrame index as a column\n",
    "                            chunksize=5000, # Specify the number of rows in each batch to be written at a time\n",
    "                            method='multi') # Pass multiple values in a single INSERT clause\n",
    "            print(f\"The {table_name} table was uploaded successfully.\")\n",
    "    # Error handling\n",
    "    except (Exception, psycopg2.DatabaseError) as error:\n",
    "        print(error)\n",
    "        engine = None\n",
    "else:\n",
    "    print(\"nope\") "
   ]
  }
 ],
 "metadata": {
  "kernelspec": {
   "display_name": "nf_capstone",
   "language": "python",
   "name": "python3"
  },
  "language_info": {
   "codemirror_mode": {
    "name": "ipython",
    "version": 3
   },
   "file_extension": ".py",
   "mimetype": "text/x-python",
   "name": "python",
   "nbconvert_exporter": "python",
   "pygments_lexer": "ipython3",
   "version": "3.9.19"
  }
 },
 "nbformat": 4,
 "nbformat_minor": 2
}

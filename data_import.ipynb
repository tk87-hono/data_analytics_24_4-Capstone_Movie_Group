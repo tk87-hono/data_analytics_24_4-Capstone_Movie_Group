{
 "cells": [
  {
   "cell_type": "code",
   "execution_count": 4,
   "metadata": {},
   "outputs": [],
   "source": [
    "import polars as pl"
   ]
  },
  {
   "cell_type": "code",
   "execution_count": null,
   "metadata": {},
   "outputs": [],
   "source": [
    "#Read in TSV-Files\n",
    "# df_name = pl.read_csv(\"name.basics.tsv\", separator=\"\\t\", ignore_errors=True)\n",
    "# df_akas = pl.read_csv(\"title.akas.tsv\", separator=\"\\t\", ignore_errors=True)\n",
    "# df_basics = pl.read_csv(\"Data/title.basics.tsv\", separator=\"\\t\", ignore_errors=True)\n",
    "# df_crew = pl.read_csv(\"title.crew.tsv\", separator=\"\\t\", ignore_errors=True)\n",
    "# df_episodes = pl.read_csv(\"title.episode.tsv\", separator=\"\\t\", ignore_errors=True) # NOT NEEDED\n",
    "# df_principals = pl.read_csv(\"title.principals.tsv\", separator=\"\\t\", ignore_errors=True)\n",
    "# df_ratings = pl.read_csv(\"title.ratings.tsv\", separator=\"\\t\", ignore_errors=True)"
   ]
  },
  {
   "cell_type": "code",
   "execution_count": 9,
   "metadata": {},
   "outputs": [],
   "source": [
    "df_basics = pl.read_csv(\".\\Data\\CSV\\movie_list_years.csv\", separator=\",\", ignore_errors=True)"
   ]
  },
  {
   "cell_type": "code",
   "execution_count": 3,
   "metadata": {},
   "outputs": [],
   "source": [
    "# Save Data as CSV-Files\n",
    "# df_name.write_csv(\"./CSV/name.basics.csv\", separator=\",\") #1\n",
    "# df_akas.write_csv(\"./CSV/title.akas.csv\", separator=\",\") #2\n",
    "# df_basics.write_csv(\"./CSV/title.basics.csv\", separator=\",\") #3\n",
    "# df_crew.write_csv(\"./CSV/title.crew.csv\", separator=\",\") #4\n",
    "# df_episodes.write_csv(\"./CSV/title.episode.csv\", separator=\",\") #5\n",
    "# df_principals.write_csv(\"./CSV/title.principals.csv\", separator=\",\") #6\n",
    "# df_ratings.write_csv(\"./CSV/title.ratings.csv\", separator=\",\") #7"
   ]
  },
  {
   "cell_type": "code",
   "execution_count": 10,
   "metadata": {},
   "outputs": [],
   "source": [
    "filtered_df = df_basics.filter(pl.col(\"titleType\").is_in([\"movie\", \"tvMovie\"]))\n",
    "filtered_df_yrs = filtered_df.filter(pl.col(\"startYear\") >= 1950)"
   ]
  },
  {
   "cell_type": "code",
   "execution_count": 32,
   "metadata": {},
   "outputs": [],
   "source": [
    "filtered_df.write_csv(\"./CSV/movie_list.csv\", separator=\",\")"
   ]
  },
  {
   "cell_type": "code",
   "execution_count": 10,
   "metadata": {},
   "outputs": [],
   "source": [
    "filtered_df_yrs.write_csv(\"./CSV/movie_list_years.csv\", separator=\",\")"
   ]
  },
  {
   "cell_type": "code",
   "execution_count": 16,
   "metadata": {},
   "outputs": [
    {
     "data": {
      "text/html": [
       "<div><style>\n",
       ".dataframe > thead > tr,\n",
       ".dataframe > tbody > tr {\n",
       "  text-align: right;\n",
       "  white-space: pre-wrap;\n",
       "}\n",
       "</style>\n",
       "<small>shape: (664_040,)</small><table border=\"1\" class=\"dataframe\"><thead><tr><th>tconst</th></tr><tr><td>str</td></tr></thead><tbody><tr><td>&quot;tt0102943&quot;</td></tr><tr><td>&quot;tt0055133&quot;</td></tr><tr><td>&quot;tt22805352&quot;</td></tr><tr><td>&quot;tt10436970&quot;</td></tr><tr><td>&quot;tt0236640&quot;</td></tr><tr><td>&hellip;</td></tr><tr><td>&quot;tt7954194&quot;</td></tr><tr><td>&quot;tt13765062&quot;</td></tr><tr><td>&quot;tt30787066&quot;</td></tr><tr><td>&quot;tt23810972&quot;</td></tr><tr><td>&quot;tt0043046&quot;</td></tr></tbody></table></div>"
      ],
      "text/plain": [
       "shape: (664_040,)\n",
       "Series: 'tconst' [str]\n",
       "[\n",
       "\t\"tt0102943\"\n",
       "\t\"tt0055133\"\n",
       "\t\"tt22805352\"\n",
       "\t\"tt10436970\"\n",
       "\t\"tt0236640\"\n",
       "\t…\n",
       "\t\"tt7954194\"\n",
       "\t\"tt13765062\"\n",
       "\t\"tt30787066\"\n",
       "\t\"tt23810972\"\n",
       "\t\"tt0043046\"\n",
       "]"
      ]
     },
     "execution_count": 16,
     "metadata": {},
     "output_type": "execute_result"
    }
   ],
   "source": [
    "unique_tconst = filtered_df_yrs[\"tconst\"].unique()\n",
    "unique_tconst"
   ]
  },
  {
   "cell_type": "code",
   "execution_count": 20,
   "metadata": {},
   "outputs": [],
   "source": [
    "unique_values_str = \",\".join(unique_tconst.to_list())"
   ]
  },
  {
   "cell_type": "code",
   "execution_count": 24,
   "metadata": {},
   "outputs": [
    {
     "ename": "AttributeError",
     "evalue": "'Series' object has no attribute 'write_csv'",
     "output_type": "error",
     "traceback": [
      "\u001b[1;31m---------------------------------------------------------------------------\u001b[0m",
      "\u001b[1;31mAttributeError\u001b[0m                            Traceback (most recent call last)",
      "Cell \u001b[1;32mIn[24], line 1\u001b[0m\n\u001b[1;32m----> 1\u001b[0m \u001b[43munique_tconst\u001b[49m\u001b[38;5;241;43m.\u001b[39;49m\u001b[43mwrite_csv\u001b[49m(\u001b[38;5;124m\"\u001b[39m\u001b[38;5;124m./Data/unique_string.csv\u001b[39m\u001b[38;5;124m\"\u001b[39m, seperator\u001b[38;5;241m=\u001b[39m\u001b[38;5;124m\"\u001b[39m\u001b[38;5;124m,\u001b[39m\u001b[38;5;124m\"\u001b[39m)\n",
      "\u001b[1;31mAttributeError\u001b[0m: 'Series' object has no attribute 'write_csv'"
     ]
    }
   ],
   "source": [
    "unique_tconst.write_csv(\"./Data/unique_string.csv\", seperator=\",\")"
   ]
  },
  {
   "cell_type": "code",
   "execution_count": null,
   "metadata": {},
   "outputs": [],
   "source": [
    "#1\n",
    "df_name.head(2)"
   ]
  },
  {
   "cell_type": "code",
   "execution_count": null,
   "metadata": {},
   "outputs": [],
   "source": [
    "#2\n",
    "df_akas.head(2)"
   ]
  },
  {
   "cell_type": "code",
   "execution_count": null,
   "metadata": {},
   "outputs": [],
   "source": [
    "#3\n",
    "df_basics.head(3)"
   ]
  },
  {
   "cell_type": "code",
   "execution_count": null,
   "metadata": {},
   "outputs": [],
   "source": [
    "#4\n",
    "df_crew.head(2)"
   ]
  },
  {
   "cell_type": "code",
   "execution_count": null,
   "metadata": {},
   "outputs": [],
   "source": [
    "#5\n",
    "df_episodes.head(2)"
   ]
  },
  {
   "cell_type": "code",
   "execution_count": null,
   "metadata": {},
   "outputs": [],
   "source": [
    "#6\n",
    "df_principals.head(2)"
   ]
  },
  {
   "cell_type": "code",
   "execution_count": null,
   "metadata": {},
   "outputs": [],
   "source": [
    "df_ratings"
   ]
  },
  {
   "cell_type": "code",
   "execution_count": null,
   "metadata": {},
   "outputs": [],
   "source": [
    "#7\n",
    "df_ratings = df_ratings.sort(by=\"numVotes\", descending= True)\n",
    "# sorted_df = df.sort([\"ratings\", \"movies\"], reverse=[True, False])\n",
    "df_ratings.head(10)"
   ]
  }
 ],
 "metadata": {
  "kernelspec": {
   "display_name": "nf_base",
   "language": "python",
   "name": "python3"
  },
  "language_info": {
   "codemirror_mode": {
    "name": "ipython",
    "version": 3
   },
   "file_extension": ".py",
   "mimetype": "text/x-python",
   "name": "python",
   "nbconvert_exporter": "python",
   "pygments_lexer": "ipython3",
   "version": "3.9.19"
  }
 },
 "nbformat": 4,
 "nbformat_minor": 2
}

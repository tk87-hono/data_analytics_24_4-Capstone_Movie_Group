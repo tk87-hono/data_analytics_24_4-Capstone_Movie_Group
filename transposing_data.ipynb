{
 "cells": [
  {
   "cell_type": "markdown",
   "metadata": {},
   "source": [
    "# Transposing data of genre, actors, directors and writers\n",
    "### Why? - To simplify the work in Tableau"
   ]
  },
  {
   "cell_type": "code",
   "execution_count": 12,
   "metadata": {},
   "outputs": [],
   "source": [
    "# import all packages\n",
    "import pandas as pd\n",
    "import numpy as np\n",
    "import psycopg2 as psycopg2\n",
    "import sql_functions as sqlf\n",
    "import string as string"
   ]
  },
  {
   "cell_type": "code",
   "execution_count": 13,
   "metadata": {},
   "outputs": [],
   "source": [
    "# pd.set_option(\"display.max.columns\", 264)"
   ]
  },
  {
   "cell_type": "code",
   "execution_count": 14,
   "metadata": {},
   "outputs": [],
   "source": [
    "schema = \"capstone_24_4_group1\""
   ]
  },
  {
   "cell_type": "code",
   "execution_count": 15,
   "metadata": {},
   "outputs": [],
   "source": [
    "imdb_query = f'''   SELECT *\n",
    "                    FROM {schema}.\"IMDB_data\"\n",
    "                    '''"
   ]
  },
  {
   "cell_type": "code",
   "execution_count": 16,
   "metadata": {},
   "outputs": [],
   "source": [
    "imdb_df = sqlf.get_dataframe(imdb_query)"
   ]
  },
  {
   "cell_type": "code",
   "execution_count": 17,
   "metadata": {},
   "outputs": [
    {
     "data": {
      "text/html": [
       "<div>\n",
       "<style scoped>\n",
       "    .dataframe tbody tr th:only-of-type {\n",
       "        vertical-align: middle;\n",
       "    }\n",
       "\n",
       "    .dataframe tbody tr th {\n",
       "        vertical-align: top;\n",
       "    }\n",
       "\n",
       "    .dataframe thead th {\n",
       "        text-align: right;\n",
       "    }\n",
       "</style>\n",
       "<table border=\"1\" class=\"dataframe\">\n",
       "  <thead>\n",
       "    <tr style=\"text-align: right;\">\n",
       "      <th></th>\n",
       "      <th>tconst</th>\n",
       "      <th>primary_title</th>\n",
       "      <th>original_title</th>\n",
       "      <th>year</th>\n",
       "      <th>runtime</th>\n",
       "      <th>num_votes</th>\n",
       "      <th>average_rating</th>\n",
       "      <th>genres_count</th>\n",
       "      <th>genre</th>\n",
       "      <th>genre2</th>\n",
       "      <th>genre3</th>\n",
       "      <th>acting</th>\n",
       "      <th>acting2</th>\n",
       "      <th>acting3</th>\n",
       "      <th>acting4</th>\n",
       "      <th>acting5</th>\n",
       "      <th>directors_count</th>\n",
       "      <th>director_name</th>\n",
       "      <th>director2_name</th>\n",
       "      <th>director3_name</th>\n",
       "      <th>writers_count</th>\n",
       "      <th>writer_name</th>\n",
       "      <th>writer2_name</th>\n",
       "      <th>writer3_name</th>\n",
       "      <th>is_adult</th>\n",
       "    </tr>\n",
       "  </thead>\n",
       "  <tbody>\n",
       "    <tr>\n",
       "      <th>0</th>\n",
       "      <td>tt0013274</td>\n",
       "      <td>Istoriya grazhdanskoy voyny</td>\n",
       "      <td>Istoriya grazhdanskoy voyny</td>\n",
       "      <td>2021</td>\n",
       "      <td>94</td>\n",
       "      <td>73.0</td>\n",
       "      <td>6.7</td>\n",
       "      <td>1.0</td>\n",
       "      <td>Documentary</td>\n",
       "      <td>None</td>\n",
       "      <td>None</td>\n",
       "      <td>None</td>\n",
       "      <td>None</td>\n",
       "      <td>None</td>\n",
       "      <td>None</td>\n",
       "      <td>None</td>\n",
       "      <td>2.0</td>\n",
       "      <td>Nikolai Izvolov</td>\n",
       "      <td>Dziga Vertov</td>\n",
       "      <td>None</td>\n",
       "      <td>NaN</td>\n",
       "      <td>None</td>\n",
       "      <td>None</td>\n",
       "      <td>None</td>\n",
       "      <td>0</td>\n",
       "    </tr>\n",
       "    <tr>\n",
       "      <th>1</th>\n",
       "      <td>tt0015414</td>\n",
       "      <td>La tierra de los toros</td>\n",
       "      <td>La tierra de los toros</td>\n",
       "      <td>2000</td>\n",
       "      <td>60</td>\n",
       "      <td>17.0</td>\n",
       "      <td>5.4</td>\n",
       "      <td>NaN</td>\n",
       "      <td>None</td>\n",
       "      <td>None</td>\n",
       "      <td>None</td>\n",
       "      <td>None</td>\n",
       "      <td>None</td>\n",
       "      <td>None</td>\n",
       "      <td>None</td>\n",
       "      <td>None</td>\n",
       "      <td>1.0</td>\n",
       "      <td>Musidora</td>\n",
       "      <td>None</td>\n",
       "      <td>None</td>\n",
       "      <td>NaN</td>\n",
       "      <td>None</td>\n",
       "      <td>None</td>\n",
       "      <td>None</td>\n",
       "      <td>0</td>\n",
       "    </tr>\n",
       "    <tr>\n",
       "      <th>2</th>\n",
       "      <td>tt0035423</td>\n",
       "      <td>Kate &amp; Leopold</td>\n",
       "      <td>Kate &amp; Leopold</td>\n",
       "      <td>2001</td>\n",
       "      <td>118</td>\n",
       "      <td>89944.0</td>\n",
       "      <td>6.4</td>\n",
       "      <td>3.0</td>\n",
       "      <td>Comedy</td>\n",
       "      <td>Fantasy</td>\n",
       "      <td>Romance</td>\n",
       "      <td>Meg Ryan</td>\n",
       "      <td>Hugh Jackman</td>\n",
       "      <td>Liev Schreiber</td>\n",
       "      <td>Breckin Meyer</td>\n",
       "      <td>Natasha Lyonne</td>\n",
       "      <td>1.0</td>\n",
       "      <td>James Mangold</td>\n",
       "      <td>None</td>\n",
       "      <td>None</td>\n",
       "      <td>2.0</td>\n",
       "      <td>Steven Rogers</td>\n",
       "      <td>James Mangold</td>\n",
       "      <td>None</td>\n",
       "      <td>0</td>\n",
       "    </tr>\n",
       "  </tbody>\n",
       "</table>\n",
       "</div>"
      ],
      "text/plain": [
       "      tconst                primary_title               original_title  year  \\\n",
       "0  tt0013274  Istoriya grazhdanskoy voyny  Istoriya grazhdanskoy voyny  2021   \n",
       "1  tt0015414       La tierra de los toros       La tierra de los toros  2000   \n",
       "2  tt0035423               Kate & Leopold               Kate & Leopold  2001   \n",
       "\n",
       "  runtime  num_votes  average_rating  genres_count        genre   genre2  \\\n",
       "0      94       73.0             6.7           1.0  Documentary     None   \n",
       "1      60       17.0             5.4           NaN         None     None   \n",
       "2     118    89944.0             6.4           3.0       Comedy  Fantasy   \n",
       "\n",
       "    genre3    acting       acting2         acting3        acting4  \\\n",
       "0     None      None          None            None           None   \n",
       "1     None      None          None            None           None   \n",
       "2  Romance  Meg Ryan  Hugh Jackman  Liev Schreiber  Breckin Meyer   \n",
       "\n",
       "          acting5  directors_count    director_name director2_name  \\\n",
       "0            None              2.0  Nikolai Izvolov   Dziga Vertov   \n",
       "1            None              1.0         Musidora           None   \n",
       "2  Natasha Lyonne              1.0    James Mangold           None   \n",
       "\n",
       "  director3_name  writers_count    writer_name   writer2_name writer3_name  \\\n",
       "0           None            NaN           None           None         None   \n",
       "1           None            NaN           None           None         None   \n",
       "2           None            2.0  Steven Rogers  James Mangold         None   \n",
       "\n",
       "   is_adult  \n",
       "0         0  \n",
       "1         0  \n",
       "2         0  "
      ]
     },
     "execution_count": 17,
     "metadata": {},
     "output_type": "execute_result"
    }
   ],
   "source": [
    "imdb_df.head(3)"
   ]
  },
  {
   "cell_type": "markdown",
   "metadata": {},
   "source": [
    "## Transposing actors"
   ]
  },
  {
   "cell_type": "code",
   "execution_count": 34,
   "metadata": {},
   "outputs": [],
   "source": [
    "imdb_actors = imdb_df[[\"tconst\", \"acting\", \"acting2\", \"acting3\", \"acting4\", \"acting5\"]]\n",
    "\n",
    "df_melted_actors = pd.melt(imdb_actors, id_vars=['tconst'], value_vars=[\"acting\", \"acting2\", \"acting3\", \"acting4\", \"acting5\"],\n",
    "                    var_name='Spalte', value_name='actor')\n",
    "\n",
    "df_melted_actors = df_melted_actors[[\"tconst\",\"actor\"]]\n",
    "df_melted_actors.head(3)\n",
    "\n",
    "df_actors = df_melted_actors"
   ]
  },
  {
   "cell_type": "markdown",
   "metadata": {},
   "source": [
    "## Transposing genres"
   ]
  },
  {
   "cell_type": "code",
   "execution_count": 48,
   "metadata": {},
   "outputs": [],
   "source": [
    "imdb_genres = imdb_df[[\"tconst\", \"genre\",\t\"genre2\", \"genre3\"]]\n",
    "\n",
    "df_melted_genres = pd.melt(imdb_genres, id_vars=['tconst'], value_vars=[\"genre\", \"genre2\", \"genre3\"],\n",
    "                    var_name='Spalte', value_name='Genre')\n",
    "\n",
    "df_melted_genres = df_melted_genres[[\"tconst\",\"Genre\"]]\n",
    "df_melted_genres.head(3)\n",
    "\n",
    "df_genres = df_melted_genres\n",
    "\n",
    "df_genres.columns = df_genres.columns.str.lower()"
   ]
  },
  {
   "cell_type": "markdown",
   "metadata": {},
   "source": [
    "## Transposing directors"
   ]
  },
  {
   "cell_type": "code",
   "execution_count": 49,
   "metadata": {},
   "outputs": [],
   "source": [
    "imdb_directors = imdb_df[[\"tconst\", \"director_name\", \"director2_name\", \"director3_name\"]]\n",
    "\n",
    "df_melted_directors = pd.melt(imdb_directors, id_vars=['tconst'], value_vars=[\"director_name\", \"director2_name\", \"director3_name\"],\n",
    "                    var_name='Spalte', value_name='Director')\n",
    "\n",
    "df_melted_directors = df_melted_directors[[\"tconst\",\"Director\"]]\n",
    "df_melted_directors.head(3)\n",
    "\n",
    "df_directors = df_melted_directors\n",
    "\n",
    "df_directors.columns = df_directors.columns.str.lower()"
   ]
  },
  {
   "cell_type": "markdown",
   "metadata": {},
   "source": [
    "## Transposing writers"
   ]
  },
  {
   "cell_type": "code",
   "execution_count": 50,
   "metadata": {},
   "outputs": [],
   "source": [
    "imdb_writers = imdb_df[[\"tconst\", \"writer_name\", \"writer2_name\", \"writer3_name\"]]\n",
    "\n",
    "df_melted_writers = pd.melt(imdb_writers, id_vars=['tconst'], value_vars=[\"writer_name\", \"writer2_name\", \"writer3_name\"],\n",
    "                    var_name='Spalte', value_name='Writer')\n",
    "\n",
    "df_melted_writers = df_melted_writers[[\"tconst\",\"Writer\"]]\n",
    "df_melted_writers.head(3)\n",
    "\n",
    "df_writers = df_melted_writers\n",
    "\n",
    "df_writers.columns = df_writers.columns.str.lower()"
   ]
  },
  {
   "cell_type": "markdown",
   "metadata": {},
   "source": [
    "## Display all to check"
   ]
  },
  {
   "cell_type": "code",
   "execution_count": null,
   "metadata": {},
   "outputs": [],
   "source": [
    "display(df_actors)\n",
    "display(df_genres)\n",
    "display(df_directors)\n",
    "display(df_writers)"
   ]
  },
  {
   "cell_type": "markdown",
   "metadata": {},
   "source": [
    "## Upload"
   ]
  },
  {
   "cell_type": "code",
   "execution_count": 53,
   "metadata": {},
   "outputs": [
    {
     "data": {
      "text/plain": [
       "'capstone_24_4_group1'"
      ]
     },
     "execution_count": 53,
     "metadata": {},
     "output_type": "execute_result"
    }
   ],
   "source": [
    "schema"
   ]
  },
  {
   "cell_type": "code",
   "execution_count": 55,
   "metadata": {},
   "outputs": [],
   "source": [
    "dataframes = {\n",
    "    \"actors\":df_actors,\n",
    "    \"genres\":df_genres,\n",
    "    \"directors\":df_directors,\n",
    "    \"writers\":df_writers,\n",
    "}"
   ]
  },
  {
   "cell_type": "code",
   "execution_count": 59,
   "metadata": {},
   "outputs": [
    {
     "name": "stdout",
     "output_type": "stream",
     "text": [
      "The actors table was imported successfully.\n",
      "The genres table was imported successfully.\n",
      "The directors table was imported successfully.\n",
      "The writers table was imported successfully.\n"
     ]
    }
   ],
   "source": [
    "# table_name = 'eu_merged'\n",
    "engine = sqlf.get_engine()\n",
    "engine\n",
    "# Write records stored in a dataframe to SQL database\n",
    "if engine != None:\n",
    "    try:\n",
    "        for table_name, df in dataframes.items():\n",
    "            df.to_sql(table_name, # Name of SQL table\n",
    "                            con=engine, # Engine or connection\n",
    "                            if_exists='replace', # Drop the table before inserting new values \n",
    "                            schema=schema, # your class schema\n",
    "                            index=False, # Write DataFrame index as a column\n",
    "                            chunksize=5000, # Specify the number of rows in each batch to be written at a time\n",
    "                            method='multi') # Pass multiple values in a single INSERT clause\n",
    "            print(f\"The {table_name} table was imported successfully.\")\n",
    "    # Error handling\n",
    "    except (Exception, psycopg2.DatabaseError) as error:\n",
    "        print(error)\n",
    "        engine = None\n",
    "else:\n",
    "    print(\"nope\") "
   ]
  }
 ],
 "metadata": {
  "kernelspec": {
   "display_name": "nf_capstone",
   "language": "python",
   "name": "python3"
  },
  "language_info": {
   "codemirror_mode": {
    "name": "ipython",
    "version": 3
   },
   "file_extension": ".py",
   "mimetype": "text/x-python",
   "name": "python",
   "nbconvert_exporter": "python",
   "pygments_lexer": "ipython3",
   "version": "3.9.19"
  }
 },
 "nbformat": 4,
 "nbformat_minor": 2
}
